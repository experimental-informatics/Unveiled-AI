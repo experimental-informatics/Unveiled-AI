{
 "cells": [
  {
   "cell_type": "markdown",
   "metadata": {},
   "source": [
    "# Python- Variable and List\n",
    "\n"
   ]
  },
  {
   "cell_type": "markdown",
   "metadata": {},
   "source": [
    "## Print\n",
    "\n",
    "In order to know what is running in computer and showing the result, we need the `print` function \\\n",
    "By python 2.0 we use `print 'hello world!'` \\\n",
    "in python 3.0 the use of a bracket is in needed `print ('hello world!')`"
   ]
  },
  {
   "cell_type": "code",
   "execution_count": 3,
   "metadata": {},
   "outputs": [
    {
     "name": "stdout",
     "output_type": "stream",
     "text": [
      "hello world!\n"
     ]
    }
   ],
   "source": [
    "print('hello world!')"
   ]
  },
  {
   "cell_type": "markdown",
   "metadata": {},
   "source": [
    "## Variable\n",
    "\n",
    "\n",
    " A variable is a container that holds data. It's like a labeled box where you can store different types of information - numbers, text, or other data. \n",
    " \n",
    " \n",
    "When you create a variable, you give it a name and assign it a value. The computer then reserves a space in memory to store that value. Variables are fundamental to programming as they let you store, track and manipulate data throughout your code.\n",
    "\n",
    "\n",
    "In python there no need to declare the type of variable, for check which type it is, use the function `type()`."
   ]
  },
  {
   "cell_type": "code",
   "execution_count": 5,
   "metadata": {},
   "outputs": [
    {
     "data": {
      "text/plain": [
       "str"
      ]
     },
     "execution_count": 5,
     "metadata": {},
     "output_type": "execute_result"
    }
   ],
   "source": [
    "i = 0\n",
    "f = 0.1\n",
    "w = 'word'\n",
    "s = '''sentence'''\n",
    "b = True\n",
    "\n",
    "type(s)"
   ]
  },
  {
   "cell_type": "markdown",
   "metadata": {},
   "source": [
    "# Data Assignment\n",
    " \n",
    "In Python, data assignment is done using the `=` operator. The value on the **right side** is assigned to the variable name on the **left side**.\n",
    " \n",
    " For example:\n",
    " ```python\n",
    " x = 5        # Assigns integer 5 to variable x\n",
    " name = \"Bob\" # Assigns string \"Bob\" to variable name\n",
    " ```\n",
    " \n",
    " Python also supports multiple assignment in a single line:\n",
    "  ```python \n",
    "a, b = 1, 2  # Assigns 1 to a and 2 to b\n",
    " ```\n",
    " "
   ]
  },
  {
   "cell_type": "markdown",
   "metadata": {},
   "source": [
    "## Swap\n",
    "<div class=\"alert alert-box alert-info\">\n",
    "    If we have a variable A, and variable B, how can we change the data in between?\n",
    "</div>"
   ]
  },
  {
   "cell_type": "code",
   "execution_count": null,
   "metadata": {},
   "outputs": [],
   "source": [
    "\n",
    "\n"
   ]
  },
  {
   "cell_type": "markdown",
   "metadata": {},
   "source": [
    "\n",
    "# The size of data and why it matters\n",
    "\n",
    "\n",
    "a bit is the smallest unit of data in a computer, it can be 0 or 1\n",
    "\n",
    "- a boolean is 1 bit (True or False)\n",
    "- a interger is 4 bytes (2^32)\n",
    "- a float is 8 bytes (2^64)\n",
    "- a character is 1 byte (in ASCII encoding, which uses 1 byte per character to represent English letters, numbers and symbols),\n",
    "\n",
    "a file with 100 characters, if it is encoded in ASCII, it will be 100 bytes.\n"
   ]
  },
  {
   "cell_type": "code",
   "execution_count": 11,
   "metadata": {},
   "outputs": [
    {
     "name": "stdout",
     "output_type": "stream",
     "text": [
      "The size of the file is: 35 bytes\n"
     ]
    }
   ],
   "source": [
    "import os\n",
    "file_size = os.path.getsize(\"media/example.txt\")  # Get file size in bytes\n",
    "print(f\"The size of the file is: {file_size} bytes\")"
   ]
  },
  {
   "cell_type": "code",
   "execution_count": 13,
   "metadata": {},
   "outputs": [
    {
     "name": "stdout",
     "output_type": "stream",
     "text": [
      "The size of the file is: 73103 bytes\n"
     ]
    }
   ],
   "source": [
    "import os\n",
    "file_size = os.path.getsize(\"media/AfterWalkerEvans.jpeg\")  # Get file size in bytes\n",
    "print(f\"The size of the file is: {file_size} bytes\")"
   ]
  },
  {
   "cell_type": "markdown",
   "metadata": {},
   "source": [
    "# Importing Random library "
   ]
  },
  {
   "cell_type": "code",
   "execution_count": 4,
   "metadata": {},
   "outputs": [],
   "source": [
    "import random #import library to support RANDOM generator"
   ]
  },
  {
   "cell_type": "code",
   "execution_count": 14,
   "metadata": {},
   "outputs": [
    {
     "name": "stdout",
     "output_type": "stream",
     "text": [
      "1\n"
     ]
    }
   ],
   "source": [
    "num = random.randint(0,10)\n",
    "print(num)"
   ]
  },
  {
   "cell_type": "markdown",
   "metadata": {},
   "source": [
    "## Rolling Dice? \n",
    "<div class=\"alert alert-box alert-info\">\n",
    "    How can I have a dice machine, everytime I run the code, it will give me a random number between 1 and 6?\n",
    "</div>"
   ]
  },
  {
   "cell_type": "code",
   "execution_count": null,
   "metadata": {},
   "outputs": [],
   "source": []
  }
 ],
 "metadata": {
  "kernelspec": {
   "display_name": "Python 3",
   "language": "python",
   "name": "python3"
  },
  "language_info": {
   "codemirror_mode": {
    "name": "ipython",
    "version": 3
   },
   "file_extension": ".py",
   "mimetype": "text/x-python",
   "name": "python",
   "nbconvert_exporter": "python",
   "pygments_lexer": "ipython3",
   "version": "3.9.20"
  }
 },
 "nbformat": 4,
 "nbformat_minor": 4
}
