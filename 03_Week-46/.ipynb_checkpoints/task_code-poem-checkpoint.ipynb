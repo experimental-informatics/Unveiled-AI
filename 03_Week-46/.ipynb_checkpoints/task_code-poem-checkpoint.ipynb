{
 "cells": [
  {
   "cell_type": "markdown",
   "id": "0a825e23-ad9e-4564-986a-f7e03368e8c3",
   "metadata": {},
   "source": [
    "### Today's Task (until next week):\n",
    "# Write a 'Code Poem' *in Python*\n"
   ]
  },
  {
   "cell_type": "markdown",
   "id": "33196eae-4d9f-4326-ae76-c3448d1574eb",
   "metadata": {},
   "source": [
    "## during the next days...\n",
    "### step by step:"
   ]
  },
  {
   "cell_type": "markdown",
   "id": "eceeb366-40c8-4c5a-b2be-4822c82cd87e",
   "metadata": {},
   "source": [
    "\n",
    "1. check that you are connected with WIFI 'eduroam'\n",
    "\n",
    "2. klick http://172.17.16.6/\n",
    "\n",
    "3. go to \"LLM WebUI Ollama\"\n",
    "\n",
    "4. type your khm-mail-adress + create PW\n",
    "\n",
    "5. select the model chatgpt-4 (on the upper left)\n",
    "\n",
    "6. start to chat\n",
    "\n",
    "7. let you help by writing a *Python code poem*\n",
    "\n",
    "    - f.ex. ask first what is a code poem anyway\n",
    "\n",
    "    - ...let it generate for you in Python\n",
    "  \n",
    "    - about a topic you are in... (politically, artistically, locally, something you are dealing with as a cultural worker right now)\n",
    "  \n",
    "    - ..."
   ]
  },
  {
   "cell_type": "markdown",
   "id": "fae6d514-164e-46e9-bdfc-16a6d044dd3a",
   "metadata": {},
   "source": [
    "## test/execute your poem(s):"
   ]
  },
  {
   "cell_type": "code",
   "execution_count": 3,
   "id": "4168cee3-ffb1-4e31-8ed9-e2e946f33e01",
   "metadata": {},
   "outputs": [
    {
     "name": "stdout",
     "output_type": "stream",
     "text": [
      "here i can try if my poem works for machines\n",
      "...\n",
      "and in the discussion we will find out -together- if it works for people too\n"
     ]
    }
   ],
   "source": [
    "\"\"\"copy/paste the code poem from the oolama-interface \n",
    "    into that block here\n",
    "    1. make doubleclick in here with your mouse\n",
    "    2. copy/past it in here\n",
    "    3. execute it with 'Strg+ENTER' or the play-button above\n",
    "    see if it runs\"\"\"\n",
    "\n",
    "# like the code here:\n",
    "print(\"here you can try if your poem works for machines\")\n",
    "print(\"...\")\n",
    "print(\"and in the discussion we will find out -together- if it works for people too\")"
   ]
  },
  {
   "cell_type": "markdown",
   "id": "8540372e-201e-4e65-80c5-7ffd901ff75c",
   "metadata": {},
   "source": [
    "## Next week thursday:\n",
    "- show us your code poem\n",
    "- explain us what a code poem (in general) is\n",
    "- \\+ the history of 'code poetry'\n",
    "- show us at least one historical code poem\n",
    "\n",
    "**and then...:**\n",
    "- explain us your 'code'-poem (how the code functions)\n",
    "- *therefore: better keep it simple* ^_^)"
   ]
  }
 ],
 "metadata": {
  "kernelspec": {
   "display_name": "Python 3 (ipykernel)",
   "language": "python",
   "name": "python3"
  },
  "language_info": {
   "codemirror_mode": {
    "name": "ipython",
    "version": 3
   },
   "file_extension": ".py",
   "mimetype": "text/x-python",
   "name": "python",
   "nbconvert_exporter": "python",
   "pygments_lexer": "ipython3",
   "version": "3.12.7"
  }
 },
 "nbformat": 4,
 "nbformat_minor": 5
}
