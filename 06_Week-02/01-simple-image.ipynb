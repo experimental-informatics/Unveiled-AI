{
 "cells": [
  {
   "cell_type": "code",
   "execution_count": null,
   "metadata": {},
   "outputs": [],
   "source": [
    "from diffusers import AutoPipelineForText2Image\n",
    "import torch\n",
    "\n",
    "cache_dir = \"/srv/src/shared/models/\"\n",
    "\n",
    "\n",
    "\n",
    "pipeline = AutoPipelineForText2Image.from_pretrained(\n",
    "\t\"stable-diffusion-v1-5/stable-diffusion-v1-5\", torch_dtype=torch.float16, variant=\"fp16\", cache_dir = \"/srv/src/shared/models/\"\n",
    ").to(\"cuda\")\n",
    "\n",
    "image = pipeline(\n",
    "\t\"stained glass of darth vader, backlight, centered composition, masterpiece, photorealistic, 8k\"\n",
    ").images[0]\n",
    "display(image)"
   ]
  }
 ],
 "metadata": {
  "language_info": {
   "name": "python"
  }
 },
 "nbformat": 4,
 "nbformat_minor": 2
}
