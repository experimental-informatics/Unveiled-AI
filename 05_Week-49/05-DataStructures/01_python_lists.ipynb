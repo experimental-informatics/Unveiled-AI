{
 "cells": [
  {
   "cell_type": "markdown",
   "metadata": {},
   "source": [
    "# Python: Lists\n",
    "\n",
    "<div class=\"alert alert-box alert-success\">\n",
    "    We have seen spatial dimensions of variables.<br>\n",
    "The data itself also has a spatial dimension. So far we have used mainly single values like a number stored in a variable, but most data is stored in sequences:<br>\n",
    "    <ul>\n",
    "        <li>a word is a sequence of characters</li>\n",
    "        <li>a image is a sequence of numbers</li>\n",
    "        <li>a video is a sequence of sequences of numbers</li>\n",
    "    </ul>\n",
    "</div>"
   ]
  },
  {
   "cell_type": "markdown",
   "metadata": {},
   "source": [
    "We can store a sequence of data in a data type called **list**. The syntax for a list are square brackets: <code>[ ]</code>. The items of the sequence are placed *inside* the square brackets, **separated** by <code>,</code>.<br>"
   ]
  },
  {
   "cell_type": "code",
   "execution_count": 9,
   "metadata": {},
   "outputs": [
    {
     "name": "stdout",
     "output_type": "stream",
     "text": [
      "[1, 5, 734, 25, 84, 101]\n",
      "<class 'list'>\n"
     ]
    }
   ],
   "source": [
    "numbers = [1, 5, 734, 25, 84, 101]\n",
    "print(numbers)\n",
    "print(type(numbers))"
   ]
  },
  {
   "cell_type": "markdown",
   "metadata": {},
   "source": [
    "We can get the length (= number of items) of a list with the built-in function `len()`. (We can use it to get the length of serveral other objects as well.)"
   ]
  },
  {
   "cell_type": "code",
   "execution_count": 10,
   "metadata": {},
   "outputs": [
    {
     "data": {
      "text/plain": [
       "6"
      ]
     },
     "execution_count": 10,
     "metadata": {},
     "output_type": "execute_result"
    }
   ],
   "source": [
    "len(numbers)"
   ]
  },
  {
   "cell_type": "markdown",
   "metadata": {},
   "source": [
    "<div class=\"alert alert-box alert-success\">\n",
    "    You can imagine a list for e.g. as an advent calendar. Each space in the sequence contains data and we can access each one independently.\n",
    "</div>\n",
    "\n",
    "![calendar](images/calendar.jpg) [Source](https://sunshineandholly.com/easy-diy-advent-calendar/)"
   ]
  },
  {
   "cell_type": "code",
   "execution_count": 11,
   "metadata": {},
   "outputs": [],
   "source": [
    "# syntax: name_of_variable = [item1, item2, item3]\n",
    "items = ['apple', 'beer', 'cherry', 'date']"
   ]
  },
  {
   "cell_type": "code",
   "execution_count": 12,
   "metadata": {},
   "outputs": [
    {
     "data": {
      "text/plain": [
       "4"
      ]
     },
     "execution_count": 12,
     "metadata": {},
     "output_type": "execute_result"
    }
   ],
   "source": [
    "len(items)"
   ]
  },
  {
   "cell_type": "code",
   "execution_count": 13,
   "metadata": {},
   "outputs": [
    {
     "name": "stdout",
     "output_type": "stream",
     "text": [
      "['apple', 'beer', 'cherry', 'date']\n"
     ]
    }
   ],
   "source": [
    "print(items)"
   ]
  },
  {
   "cell_type": "markdown",
   "metadata": {},
   "source": [
    "### Accessing elements of a list\n",
    "\n",
    "All items in a list have an **index**, through which we can access items individually. Access elements of a list with the following syntax:<br>\n",
    "``` python\n",
    "name_of_list[index] # index is an integer\n",
    "```"
   ]
  },
  {
   "cell_type": "code",
   "execution_count": 14,
   "metadata": {},
   "outputs": [
    {
     "name": "stdout",
     "output_type": "stream",
     "text": [
      "cherry\n"
     ]
    }
   ],
   "source": [
    "item_2 = items[2]\n",
    "print(item_2)"
   ]
  },
  {
   "cell_type": "markdown",
   "metadata": {},
   "source": [
    "We expected to get a beer, but got a cherry.<br>\n",
    "<div class=\"alert alert-box alert-info\">\n",
    "    Task: Get the beer.\n",
    "</div>"
   ]
  },
  {
   "cell_type": "code",
   "execution_count": null,
   "metadata": {},
   "outputs": [],
   "source": []
  },
  {
   "cell_type": "markdown",
   "metadata": {},
   "source": [
    "Remember that **counting starts from 0**, not from 1.<br>\n",
    "This also means that the last item has the length of the list - 1.<br>"
   ]
  },
  {
   "cell_type": "code",
   "execution_count": 15,
   "metadata": {},
   "outputs": [
    {
     "name": "stdout",
     "output_type": "stream",
     "text": [
      "4\n",
      "date\n"
     ]
    }
   ],
   "source": [
    "print(len(items))\n",
    "\n",
    "last_item = items[len(items) - 1]\n",
    "print(last_item)"
   ]
  },
  {
   "cell_type": "markdown",
   "metadata": {},
   "source": [
    "As you see we can use methods and mathematical expressions *inside* the square brackets.<br>\n",
    "But we have to make sure that the result is an integer."
   ]
  },
  {
   "cell_type": "code",
   "execution_count": 16,
   "metadata": {},
   "outputs": [
    {
     "name": "stdout",
     "output_type": "stream",
     "text": [
      "cherry\n"
     ]
    }
   ],
   "source": [
    "some_item = items[len(items) / 2]\n",
    "print(some_item)"
   ]
  },
  {
   "cell_type": "markdown",
   "metadata": {},
   "source": [
    "<div class=\"alert alert-box alert-info\">\n",
    "    Task: Modify the code from above so that the mathematical expression works.\n",
    "</div>"
   ]
  },
  {
   "cell_type": "code",
   "execution_count": 17,
   "metadata": {
    "tags": [
     "hide-input"
    ]
   },
   "outputs": [
    {
     "name": "stdout",
     "output_type": "stream",
     "text": [
      "cherry\n"
     ]
    }
   ],
   "source": [
    "some_item = items[int(len(items) / 2)]\n",
    "print(some_item)"
   ]
  },
  {
   "cell_type": "markdown",
   "metadata": {},
   "source": [
    "We can access values from the end of a list. For that we have to use a negative index."
   ]
  },
  {
   "cell_type": "code",
   "execution_count": 18,
   "metadata": {},
   "outputs": [
    {
     "name": "stdout",
     "output_type": "stream",
     "text": [
      "['apple', 'beer', 'cherry', 'date']\n",
      "date\n"
     ]
    }
   ],
   "source": [
    "print(items)\n",
    "print(items[-1]) # Counting from the end starts at -1, not -0!"
   ]
  },
  {
   "cell_type": "code",
   "execution_count": 19,
   "metadata": {},
   "outputs": [
    {
     "name": "stdout",
     "output_type": "stream",
     "text": [
      "['apple', 'beer', 'cherry', 'date']\n",
      "cherry\n"
     ]
    }
   ],
   "source": [
    "print(items)\n",
    "print(items[-2])"
   ]
  },
  {
   "cell_type": "markdown",
   "metadata": {},
   "source": [
    "We can access a range (**slice**) of elements:"
   ]
  },
  {
   "cell_type": "code",
   "execution_count": 20,
   "metadata": {},
   "outputs": [
    {
     "name": "stdout",
     "output_type": "stream",
     "text": [
      "['apple', 'beer', 'cherry', 'date']\n",
      "['beer', 'cherry']\n"
     ]
    }
   ],
   "source": [
    "print(items)\n",
    "print(items[1:3]) # Start at index 1, stop at 3 (3 not included)."
   ]
  },
  {
   "cell_type": "code",
   "execution_count": 21,
   "metadata": {},
   "outputs": [
    {
     "name": "stdout",
     "output_type": "stream",
     "text": [
      "['apple', 'beer', 'cherry', 'date']\n",
      "['apple', 'beer', 'cherry']\n"
     ]
    }
   ],
   "source": [
    "print(items)\n",
    "print(items[:3]) # No start value = start at 0, stop at 3 (not included)."
   ]
  },
  {
   "cell_type": "code",
   "execution_count": 22,
   "metadata": {},
   "outputs": [
    {
     "name": "stdout",
     "output_type": "stream",
     "text": [
      "['apple', 'beer', 'cherry', 'date']\n",
      "['cherry', 'date']\n"
     ]
    }
   ],
   "source": [
    "print(items)\n",
    "print(items[2:]) # No stop value = stop at end (inclusive)."
   ]
  },
  {
   "cell_type": "markdown",
   "metadata": {},
   "source": [
    "![list_slicing.jpg](images/list_slicing.jpg)"
   ]
  },
  {
   "cell_type": "markdown",
   "metadata": {},
   "source": [
    "\n",
    "There are several types of data structures used in computer languages (`Array`, `Stack`, `Queue`, `Tree`, `Object` and so on)\n",
    "\n",
    "Some of them are interchangable, and language specific. \n",
    "\n",
    "![](https://img-blog.csdnimg.cn/20190910131153958.jpg) a example of data structre `Stack`\n",
    "\n"
   ]
  },
  {
   "cell_type": "markdown",
   "metadata": {},
   "source": [
    "### Built-in methods of data type list"
   ]
  },
  {
   "cell_type": "markdown",
   "metadata": {},
   "source": [
    "#### Adding values\n",
    "\n",
    "`append()` adds one element at the end of the list."
   ]
  },
  {
   "cell_type": "code",
   "execution_count": 23,
   "metadata": {},
   "outputs": [
    {
     "name": "stdout",
     "output_type": "stream",
     "text": [
      "['apple', 'beer', 'cherry', 'date', 'elephant']\n"
     ]
    }
   ],
   "source": [
    "items.append('elephant') # list.append(element)\n",
    "print(items)"
   ]
  },
  {
   "cell_type": "markdown",
   "metadata": {},
   "source": [
    "#### Removing values\n",
    "\n",
    "With `remove()` we can remove a specific element from the list. (This removes only the first occurence of that element.)"
   ]
  },
  {
   "cell_type": "code",
   "execution_count": 24,
   "metadata": {},
   "outputs": [
    {
     "name": "stdout",
     "output_type": "stream",
     "text": [
      "['apple', 'beer', 'cherry', 'date', 'elephant']\n",
      "['apple', 'cherry', 'date', 'elephant']\n"
     ]
    }
   ],
   "source": [
    "print(items)\n",
    "items.remove('beer') # list.remove(element)\n",
    "print(items)"
   ]
  },
  {
   "cell_type": "markdown",
   "metadata": {},
   "source": [
    "The method `pop()` **returns** and removes the last item."
   ]
  },
  {
   "cell_type": "code",
   "execution_count": 25,
   "metadata": {},
   "outputs": [
    {
     "name": "stdout",
     "output_type": "stream",
     "text": [
      "['apple', 'cherry', 'date', 'elephant']\n",
      "elephant\n",
      "['apple', 'cherry', 'date']\n"
     ]
    }
   ],
   "source": [
    "# Get and delete the last item.\n",
    "print(items)\n",
    "print(items.pop())\n",
    "print(items)"
   ]
  },
  {
   "cell_type": "markdown",
   "metadata": {},
   "source": [
    "If we use an integer as argument for `pop()`, the item of this index is returned and removed."
   ]
  },
  {
   "cell_type": "code",
   "execution_count": 26,
   "metadata": {},
   "outputs": [
    {
     "name": "stdout",
     "output_type": "stream",
     "text": [
      "['apple', 'cherry', 'date']\n",
      "['apple', 'date']\n"
     ]
    }
   ],
   "source": [
    "# Get and delete an item by index\n",
    "print(items)\n",
    "items.pop(1)\n",
    "print(items)"
   ]
  },
  {
   "cell_type": "markdown",
   "metadata": {},
   "source": [
    "#### Inserting values\n",
    "\n",
    "Instead of appending an element at the end we can specify a index with `insert()`."
   ]
  },
  {
   "cell_type": "code",
   "execution_count": 27,
   "metadata": {},
   "outputs": [
    {
     "name": "stdout",
     "output_type": "stream",
     "text": [
      "['apple', 'date']\n",
      "['apple', 'banana', 'date']\n"
     ]
    }
   ],
   "source": [
    "print(items)\n",
    "items.insert(1, 'banana') # list.insert(index, value)\n",
    "print(items)"
   ]
  },
  {
   "cell_type": "markdown",
   "metadata": {},
   "source": [
    "#### Replacing values"
   ]
  },
  {
   "cell_type": "code",
   "execution_count": 28,
   "metadata": {},
   "outputs": [
    {
     "name": "stdout",
     "output_type": "stream",
     "text": [
      "['apple', 'banana', 'date']\n",
      "['apple', 'berry', 'date']\n"
     ]
    }
   ],
   "source": [
    "print(items)\n",
    "items[1] = 'berry' # list[index] = value\n",
    "print(items)"
   ]
  },
  {
   "cell_type": "markdown",
   "metadata": {},
   "source": [
    "#### Combining lists"
   ]
  },
  {
   "cell_type": "code",
   "execution_count": 29,
   "metadata": {},
   "outputs": [
    {
     "name": "stdout",
     "output_type": "stream",
     "text": [
      "['apple', 'berry', 'date', 'mango', 'firebird', 'eel']\n"
     ]
    }
   ],
   "source": [
    "additional_elements = ['mango', 'firebird', 'eel']\n",
    "items += additional_elements # list + list\n",
    "print(items)"
   ]
  },
  {
   "cell_type": "markdown",
   "metadata": {},
   "source": [
    "#### Sorting lists\n",
    "\n",
    "Sorting is done \"in place\". This means that the list itself is modified (elements inside the list are sorted) and no new list is returned."
   ]
  },
  {
   "cell_type": "code",
   "execution_count": 30,
   "metadata": {},
   "outputs": [
    {
     "name": "stdout",
     "output_type": "stream",
     "text": [
      "['apple', 'berry', 'date', 'eel', 'firebird', 'mango']\n"
     ]
    }
   ],
   "source": [
    "items.sort() # No argument = ascending order.\n",
    "print(items)"
   ]
  },
  {
   "cell_type": "code",
   "execution_count": 31,
   "metadata": {},
   "outputs": [
    {
     "name": "stdout",
     "output_type": "stream",
     "text": [
      "['mango', 'firebird', 'eel', 'date', 'berry', 'apple']\n"
     ]
    }
   ],
   "source": [
    "items.sort(reverse=True)\n",
    "print(items)"
   ]
  },
  {
   "cell_type": "code",
   "execution_count": 32,
   "metadata": {},
   "outputs": [
    {
     "name": "stdout",
     "output_type": "stream",
     "text": [
      "['eel', 'date', 'mango', 'berry', 'apple', 'firebird']\n"
     ]
    }
   ],
   "source": [
    "items.sort(key=len)\n",
    "print(items)"
   ]
  },
  {
   "cell_type": "code",
   "execution_count": 33,
   "metadata": {},
   "outputs": [
    {
     "name": "stdout",
     "output_type": "stream",
     "text": [
      "['firebird', 'mango', 'berry', 'apple', 'date', 'eel']\n"
     ]
    }
   ],
   "source": [
    "items.sort(key=len, reverse=True)\n",
    "print(items)"
   ]
  },
  {
   "cell_type": "markdown",
   "metadata": {},
   "source": [
    "With `.reverse()` we reverse a list, but this method does not sort it."
   ]
  },
  {
   "cell_type": "code",
   "execution_count": 34,
   "metadata": {},
   "outputs": [
    {
     "name": "stdout",
     "output_type": "stream",
     "text": [
      "['eel', 'date', 'apple', 'berry', 'mango', 'firebird']\n"
     ]
    }
   ],
   "source": [
    "items.reverse()\n",
    "print(items)"
   ]
  },
  {
   "cell_type": "markdown",
   "metadata": {},
   "source": [
    "## Iterating over a list with a for-loop\n",
    "\n",
    "So far we have used a for-loop in combination with the iterable object `range`."
   ]
  },
  {
   "cell_type": "code",
   "execution_count": 35,
   "metadata": {},
   "outputs": [
    {
     "name": "stdout",
     "output_type": "stream",
     "text": [
      "0\n",
      "1\n",
      "2\n"
     ]
    }
   ],
   "source": [
    "for i in range(3):\n",
    "    print(i)"
   ]
  },
  {
   "cell_type": "markdown",
   "metadata": {},
   "source": [
    "In fact range produces a list of items and iterates over these items.<br>\n",
    "<br>\n",
    "So we can use a for-loop to iterate over a list of items directly. For each item in the sequence, the code inside the loop is executed once."
   ]
  },
  {
   "cell_type": "code",
   "execution_count": 36,
   "metadata": {},
   "outputs": [
    {
     "name": "stdout",
     "output_type": "stream",
     "text": [
      "apple\n",
      "beer\n",
      "cherry\n",
      "date\n"
     ]
    }
   ],
   "source": [
    "items = ['apple', 'beer', 'cherry', 'date']\n",
    "\n",
    "for surprise in items:\n",
    "    print(surprise)"
   ]
  },
  {
   "cell_type": "markdown",
   "metadata": {},
   "source": [
    "![loop_list.jpg](images/loop_list.jpg)"
   ]
  },
  {
   "cell_type": "markdown",
   "metadata": {},
   "source": [
    "If you need the index of each item, it's easier with the built-in function `enumerate()`, which returns the index and the value of the item.<br>"
   ]
  },
  {
   "cell_type": "code",
   "execution_count": 37,
   "metadata": {},
   "outputs": [
    {
     "name": "stdout",
     "output_type": "stream",
     "text": [
      "0 : 🐢\n",
      "1 : 🦓\n",
      "2 : 🐫\n",
      "3 : 🐼\n",
      "4 : 🐤\n",
      "5 : 🦜\n",
      "6 : 🐊\n",
      "7 : 🐢\n",
      "8 : 🦎\n",
      "9 : 🐉\n",
      "10 : 🐍\n",
      "11 : 🐲\n",
      "12 : 🦟\n",
      "13 : 🦖\n",
      "14 : 🦚\n"
     ]
    }
   ],
   "source": [
    "animals = ['🐢', '🦓', '🐫', '🐼', '🐤']\n",
    "animals_green = ['🦜', '🐊', '🐢', '🦎', '🐉', '🐍', '🐲','🦟', '🦖','🦚']\n",
    "\n",
    "for index, animal in enumerate(animals+animals_green):\n",
    "    print(index, ':', animal)"
   ]
  },
  {
   "cell_type": "markdown",
   "metadata": {},
   "source": [
    "`index` and `value` are variables, so we can name them as we like. For this example, we could for example use\n",
    "```python\n",
    "for i, surprise in enumerate(advent_calendar):\n",
    "    print(i, ':', surprise)\n",
    "```"
   ]
  },
  {
   "cell_type": "markdown",
   "metadata": {},
   "source": [
    "On the other hand we can use `range()` to generate elements for a list:"
   ]
  },
  {
   "cell_type": "code",
   "execution_count": 38,
   "metadata": {},
   "outputs": [
    {
     "name": "stdout",
     "output_type": "stream",
     "text": [
      "5\n",
      "6\n",
      "7\n",
      "8\n",
      "9\n"
     ]
    }
   ],
   "source": [
    "for n in range(5, 10):\n",
    "    print(n)"
   ]
  },
  {
   "cell_type": "code",
   "execution_count": 39,
   "metadata": {},
   "outputs": [
    {
     "name": "stdout",
     "output_type": "stream",
     "text": [
      "[5, 6, 7, 8, 9]\n"
     ]
    }
   ],
   "source": [
    "numbers = [n for n in range(5, 10)]\n",
    "print(numbers)"
   ]
  },
  {
   "cell_type": "markdown",
   "metadata": {},
   "source": [
    "We create a new variable and use square brackets on the right side of the equal sign. Then we execute a for-loop with `range()` *inside* the square brackets. The variable before the `for` keyword indicates that the element will be included into the list."
   ]
  },
  {
   "cell_type": "code",
   "execution_count": 40,
   "metadata": {},
   "outputs": [
    {
     "name": "stdout",
     "output_type": "stream",
     "text": [
      "[2.5, 3.0, 3.5, 4.0, 4.5]\n"
     ]
    }
   ],
   "source": [
    "numbers = [n/2 for n in range(5, 10)]\n",
    "print(numbers)"
   ]
  },
  {
   "cell_type": "markdown",
   "metadata": {},
   "source": [
    "### Data types inside a list\n",
    "\n",
    "A list can contain any other python object.<br>\n",
    "For example we could store coordinates in three separate objects, but we can store them as one object of data type list:\n",
    "\n",
    "![list_init.jpg](images/list_init.jpg)"
   ]
  },
  {
   "cell_type": "code",
   "execution_count": 41,
   "metadata": {},
   "outputs": [],
   "source": [
    "x, y, z = 10, 12, 9 # Three objects.\n",
    "coordinates = [10, 12, 9] # One object of type list."
   ]
  },
  {
   "cell_type": "code",
   "execution_count": 42,
   "metadata": {},
   "outputs": [
    {
     "name": "stdout",
     "output_type": "stream",
     "text": [
      "[10, 12, 9]\n"
     ]
    }
   ],
   "source": [
    "print(coordinates)"
   ]
  },
  {
   "cell_type": "markdown",
   "metadata": {},
   "source": [
    "As lists can contain any other objects they can contain other lists as well.\n",
    "\n",
    "![list_lists.jpg](images/list_lists.jpg)"
   ]
  },
  {
   "cell_type": "markdown",
   "metadata": {},
   "source": [
    "Furthermore a list can contain items of different data types!"
   ]
  },
  {
   "cell_type": "code",
   "execution_count": 43,
   "metadata": {},
   "outputs": [
    {
     "name": "stdout",
     "output_type": "stream",
     "text": [
      "0 🐍 <class 'int'>\n",
      "some words 🐍 <class 'str'>\n",
      "3.13 🐍 <class 'float'>\n",
      "-4.24e-13 🐍 <class 'float'>\n",
      "[0, -2, -4, -6] 🐍 <class 'list'>\n"
     ]
    }
   ],
   "source": [
    "num_list = [num for num in range(0, -7, -2)]\n",
    "\n",
    "mixed_type_list = [0, 'some words', 3.13, -4.24e-13, num_list]\n",
    "\n",
    "for item in mixed_type_list:\n",
    "    print(item, '🐍', type(item))"
   ]
  }
 ],
 "metadata": {
  "kernelspec": {
   "display_name": "Python 3",
   "language": "python",
   "name": "python3"
  },
  "language_info": {
   "codemirror_mode": {
    "name": "ipython",
    "version": 3
   },
   "file_extension": ".py",
   "mimetype": "text/x-python",
   "name": "python",
   "nbconvert_exporter": "python",
   "pygments_lexer": "ipython3",
   "version": "3.8.3"
  }
 },
 "nbformat": 4,
 "nbformat_minor": 4
}
