{
 "cells": [
  {
   "cell_type": "markdown",
   "metadata": {},
   "source": [
    "# mehrschichtiges Neuronales Netz in Tensorflow & Keras\n",
    "https://keras.io/\n",
    "![Image](./data/mnist2.png)"
   ]
  },
  {
   "cell_type": "markdown",
   "metadata": {},
   "source": [
    "# Keras Python Machine Learning API importieren"
   ]
  },
  {
   "cell_type": "code",
   "execution_count": 115,
   "metadata": {},
   "outputs": [
    {
     "data": {
      "text/plain": [
       "'2.15.0'"
      ]
     },
     "execution_count": 115,
     "metadata": {},
     "output_type": "execute_result"
    }
   ],
   "source": [
    "import keras\n",
    "keras.__version__"
   ]
  },
  {
   "cell_type": "markdown",
   "metadata": {},
   "source": [
    "# importieren der gesamten MNIST Datenbank"
   ]
  },
  {
   "cell_type": "code",
   "execution_count": 116,
   "metadata": {},
   "outputs": [],
   "source": [
    "from keras.datasets import mnist\n",
    "\n",
    "(train_images, train_labels), (test_images, test_labels) = mnist.load_data()"
   ]
  },
  {
   "cell_type": "markdown",
   "metadata": {},
   "source": [
    "# Ausgabe der Trainings- bzw. Testbilder"
   ]
  },
  {
   "cell_type": "markdown",
   "metadata": {},
   "source": [
    "### Ausgabe der Shape (Form)"
   ]
  },
  {
   "cell_type": "code",
   "execution_count": 117,
   "metadata": {},
   "outputs": [
    {
     "name": "stdout",
     "output_type": "stream",
     "text": [
      "(60000, 28, 28)\n",
      "(10000, 28, 28)\n"
     ]
    }
   ],
   "source": [
    "# output the shape of the data (also was is drinnen in den datensätzen)\n",
    "print(train_images.shape)\n",
    "print(test_images.shape)"
   ]
  },
  {
   "cell_type": "markdown",
   "metadata": {},
   "source": [
    "### Ausgabe der Dimension des Arrays (Bilder) mit `.nidm`"
   ]
  },
  {
   "cell_type": "code",
   "execution_count": 118,
   "metadata": {},
   "outputs": [
    {
     "name": "stdout",
     "output_type": "stream",
     "text": [
      "3\n",
      "3\n"
     ]
    }
   ],
   "source": [
    "# output the dimension of the data\n",
    "print(train_images.ndim)\n",
    "print(test_images.ndim)"
   ]
  },
  {
   "cell_type": "code",
   "execution_count": 119,
   "metadata": {},
   "outputs": [
    {
     "data": {
      "text/plain": [
       "array([7, 2, 1, ..., 4, 5, 6], dtype=uint8)"
      ]
     },
     "execution_count": 119,
     "metadata": {},
     "output_type": "execute_result"
    }
   ],
   "source": [
    "test_labels"
   ]
  },
  {
   "cell_type": "code",
   "execution_count": 120,
   "metadata": {},
   "outputs": [
    {
     "data": {
      "text/plain": [
       "array([[[0, 0, 0, ..., 0, 0, 0],\n",
       "        [0, 0, 0, ..., 0, 0, 0],\n",
       "        [0, 0, 0, ..., 0, 0, 0],\n",
       "        ...,\n",
       "        [0, 0, 0, ..., 0, 0, 0],\n",
       "        [0, 0, 0, ..., 0, 0, 0],\n",
       "        [0, 0, 0, ..., 0, 0, 0]],\n",
       "\n",
       "       [[0, 0, 0, ..., 0, 0, 0],\n",
       "        [0, 0, 0, ..., 0, 0, 0],\n",
       "        [0, 0, 0, ..., 0, 0, 0],\n",
       "        ...,\n",
       "        [0, 0, 0, ..., 0, 0, 0],\n",
       "        [0, 0, 0, ..., 0, 0, 0],\n",
       "        [0, 0, 0, ..., 0, 0, 0]],\n",
       "\n",
       "       [[0, 0, 0, ..., 0, 0, 0],\n",
       "        [0, 0, 0, ..., 0, 0, 0],\n",
       "        [0, 0, 0, ..., 0, 0, 0],\n",
       "        ...,\n",
       "        [0, 0, 0, ..., 0, 0, 0],\n",
       "        [0, 0, 0, ..., 0, 0, 0],\n",
       "        [0, 0, 0, ..., 0, 0, 0]],\n",
       "\n",
       "       ...,\n",
       "\n",
       "       [[0, 0, 0, ..., 0, 0, 0],\n",
       "        [0, 0, 0, ..., 0, 0, 0],\n",
       "        [0, 0, 0, ..., 0, 0, 0],\n",
       "        ...,\n",
       "        [0, 0, 0, ..., 0, 0, 0],\n",
       "        [0, 0, 0, ..., 0, 0, 0],\n",
       "        [0, 0, 0, ..., 0, 0, 0]],\n",
       "\n",
       "       [[0, 0, 0, ..., 0, 0, 0],\n",
       "        [0, 0, 0, ..., 0, 0, 0],\n",
       "        [0, 0, 0, ..., 0, 0, 0],\n",
       "        ...,\n",
       "        [0, 0, 0, ..., 0, 0, 0],\n",
       "        [0, 0, 0, ..., 0, 0, 0],\n",
       "        [0, 0, 0, ..., 0, 0, 0]],\n",
       "\n",
       "       [[0, 0, 0, ..., 0, 0, 0],\n",
       "        [0, 0, 0, ..., 0, 0, 0],\n",
       "        [0, 0, 0, ..., 0, 0, 0],\n",
       "        ...,\n",
       "        [0, 0, 0, ..., 0, 0, 0],\n",
       "        [0, 0, 0, ..., 0, 0, 0],\n",
       "        [0, 0, 0, ..., 0, 0, 0]]], dtype=uint8)"
      ]
     },
     "execution_count": 120,
     "metadata": {},
     "output_type": "execute_result"
    }
   ],
   "source": [
    "test_images"
   ]
  },
  {
   "cell_type": "markdown",
   "metadata": {},
   "source": [
    "### Ausgabe der Trainings-Indizes:"
   ]
  },
  {
   "cell_type": "code",
   "execution_count": 121,
   "metadata": {},
   "outputs": [
    {
     "data": {
      "text/plain": [
       "array([5, 0, 4, ..., 5, 6, 8], dtype=uint8)"
      ]
     },
     "execution_count": 121,
     "metadata": {},
     "output_type": "execute_result"
    }
   ],
   "source": [
    "train_labels"
   ]
  },
  {
   "cell_type": "markdown",
   "metadata": {},
   "source": [
    "## NN erstellen\n",
    "\n",
    "generell benötigen wir hierfür:\n",
    "\n",
    "1. `Layer`\n",
    "\n",
    "2. `Eingabedaten` \n",
    "\n",
    "3. `Verlustfunktion`\n",
    "\n",
    "4. `Optimierer`\n",
    "\n",
    "![Image](./data/nn.png)\n"
   ]
  },
  {
   "cell_type": "markdown",
   "metadata": {},
   "source": [
    "### 0. Module (layers & models) importieren\n",
    "\n",
    "* Module: https://www.tensorflow.org/api_docs/python/tf/keras\n",
    "* z.B. models: https://www.tensorflow.org/api_docs/python/tf/keras/models"
   ]
  },
  {
   "cell_type": "code",
   "execution_count": 122,
   "metadata": {},
   "outputs": [],
   "source": [
    "from keras import models\n",
    "from keras import layers"
   ]
  },
  {
   "cell_type": "markdown",
   "metadata": {},
   "source": [
    "### Initialisieren eines leeren Netzes\n",
    "#### mit dem Modul `models` bestimmen wir im folgenden einen linearen Stapel von Schichten `(Sequential)`"
   ]
  },
  {
   "cell_type": "code",
   "execution_count": 123,
   "metadata": {},
   "outputs": [],
   "source": [
    "network = models.Sequential()"
   ]
  },
  {
   "cell_type": "markdown",
   "metadata": {},
   "source": [
    "### Layer definieren"
   ]
  },
  {
   "cell_type": "markdown",
   "metadata": {
    "tags": []
   },
   "source": [
    "#### Mit dem Argument `layers` definieren wir eine Liste von Layern, die dem Modell hinzugefügt werden sollen und legen die jewewiligen Attribute fest."
   ]
  },
  {
   "cell_type": "markdown",
   "metadata": {},
   "source": [
    "#### a) der input- und der hidden layer:"
   ]
  },
  {
   "cell_type": "code",
   "execution_count": 124,
   "metadata": {},
   "outputs": [],
   "source": [
    "network.add(layers.Dense(512, activation='sigmoid', input_shape=(28 * 28,)))"
   ]
  },
  {
   "cell_type": "markdown",
   "metadata": {},
   "source": [
    "+ `Dense` definiert einen layer in dem jeder Knoten mit jedem Knoten in der nachfolgenden verborgenen Schicht verbunden ist: `fully-connected Layer`\n",
    "+ `input_shape` = Input layer mit 784 Eingabewerten, in unserem Falle also ein 2-D-Tensor mit 28*28 Werten\n",
    "+ `activation` = Sigmoid-Aktivierungs-Funktion\n",
    "+ `512` = definiert die größe des hidden layers"
   ]
  },
  {
   "cell_type": "markdown",
   "metadata": {},
   "source": [
    "#### b) der output layer: "
   ]
  },
  {
   "cell_type": "code",
   "execution_count": 125,
   "metadata": {},
   "outputs": [],
   "source": [
    "network.add(layers.Dense(10, activation='softmax'))"
   ]
  },
  {
   "cell_type": "markdown",
   "metadata": {},
   "source": [
    "+ `10` (fully-connected) Knoten\n",
    "\n",
    "\n",
    "+ auf die die `softmax` funktion angewandt wird:\n",
    "\n",
    "---\n",
    "---"
   ]
  },
  {
   "cell_type": "code",
   "execution_count": 126,
   "metadata": {},
   "outputs": [
    {
     "name": "stdout",
     "output_type": "stream",
     "text": [
      "Model: \"sequential_4\"\n",
      "_________________________________________________________________\n",
      " Layer (type)                Output Shape              Param #   \n",
      "=================================================================\n",
      " dense_8 (Dense)             (None, 512)               401920    \n",
      "                                                                 \n",
      " dense_9 (Dense)             (None, 10)                5130      \n",
      "                                                                 \n",
      "=================================================================\n",
      "Total params: 407050 (1.55 MB)\n",
      "Trainable params: 407050 (1.55 MB)\n",
      "Non-trainable params: 0 (0.00 Byte)\n",
      "_________________________________________________________________\n"
     ]
    }
   ],
   "source": [
    "network.summary()"
   ]
  },
  {
   "cell_type": "markdown",
   "metadata": {},
   "source": [
    "##### zum trainieren des Netzes benötigen wir noch weitere 3 Parameter :\n",
    "+ `loss` Verlustfunktion E = S-K https://keras.io/losses/ https://keras.io/backend/#categorical_crossentropy\n",
    "+ `optimizer` Gewichtsanpassung https://keras.io/optimizers/ https://keras.io/optimizers/#rmsprop\n",
    "+ `metrics`, definiert den Anteil der Bilder, die korrekt klassifiziert wurden https://keras.io/metrics/"
   ]
  },
  {
   "cell_type": "code",
   "execution_count": 127,
   "metadata": {},
   "outputs": [],
   "source": [
    "network.compile(optimizer='rmsprop',\n",
    "                loss='categorical_crossentropy',\n",
    "                metrics=['accuracy'])"
   ]
  },
  {
   "cell_type": "markdown",
   "metadata": {},
   "source": [
    "### Trainings- bzw. Testdaten vorbereiten, bzw. skalieren\n",
    "\n",
    "von [0-255] in einen Interval von [0, 1] "
   ]
  },
  {
   "cell_type": "code",
   "execution_count": 128,
   "metadata": {},
   "outputs": [
    {
     "name": "stdout",
     "output_type": "stream",
     "text": [
      "Label:  2\n",
      "Datentyp before:  uint8\n",
      "[  0   0   0   0   0   0   0   0   0   0   0   0   0   0   0   0   0   0\n",
      "   0   0   0   0   0   0   0   0   0   0   0   0   0   0   0   0   0   0\n",
      "   0   0   0   0   0   0   0   0   0   0   0   0   0   0   0   0   0   0\n",
      "   0   0   0   0   0   0   0   0   0   0   0   0   0   0   0   0   0   0\n",
      "   0   0   0   0   0   0   0   0   0   0   0   0   0   0   0   0   0   0\n",
      "   0   0   0   0 116 125 171 255 255 150  93   0   0   0   0   0   0   0\n",
      "   0   0   0   0   0   0   0   0   0   0   0   0   0 169 253 253 253 253\n",
      " 253 253 218  30   0   0   0   0   0   0   0   0   0   0   0   0   0   0\n",
      "   0   0   0   0 169 253 253 253 213 142 176 253 253 122   0   0   0   0\n",
      "   0   0   0   0   0   0   0   0   0   0   0   0   0  52 250 253 210  32\n",
      "  12   0   6 206 253 140   0   0   0   0   0   0   0   0   0   0   0   0\n",
      "   0   0   0   0   0  77 251 210  25   0   0   0 122 248 253  65   0   0\n",
      "   0   0   0   0   0   0   0   0   0   0   0   0   0   0   0   0  31  18\n",
      "   0   0   0   0 209 253 253  65   0   0   0   0   0   0   0   0   0   0\n",
      "   0   0   0   0   0   0   0   0   0   0   0   0   0 117 247 253 198  10\n",
      "   0   0   0   0   0   0   0   0   0   0   0   0   0   0   0   0   0   0\n",
      "   0   0   0   0  76 247 253 231  63   0   0   0   0   0   0   0   0   0\n",
      "   0   0   0   0   0   0   0   0   0   0   0   0   0   0 128 253 253 144\n",
      "   0   0   0   0   0   0   0   0   0   0   0   0   0   0   0   0   0   0\n",
      "   0   0   0   0   0 176 246 253 159  12   0   0   0   0   0   0   0   0\n",
      "   0   0   0   0   0   0   0   0   0   0   0   0   0   0  25 234 253 233\n",
      "  35   0   0   0   0   0   0   0   0   0   0   0   0   0   0   0   0   0\n",
      "   0   0   0   0   0   0 198 253 253 141   0   0   0   0   0   0   0   0\n",
      "   0   0   0   0   0   0   0   0   0   0   0   0   0   0   0  78 248 253\n",
      " 189  12   0   0   0   0   0   0   0   0   0   0   0   0   0   0   0   0\n",
      "   0   0   0   0   0   0  19 200 253 253 141   0   0   0   0   0   0   0\n",
      "   0   0   0   0   0   0   0   0   0   0   0   0   0   0   0   0 134 253\n",
      " 253 173  12   0   0   0   0   0   0   0   0   0   0   0   0   0   0   0\n",
      "   0   0   0   0   0   0   0   0 248 253 253  25   0   0   0   0   0   0\n",
      "   0   0   0   0   0   0   0   0   0   0   0   0   0   0   0   0   0   0\n",
      " 248 253 253  43  20  20  20  20   5   0   5  20  20  37 150 150 150 147\n",
      "  10   0   0   0   0   0   0   0   0   0 248 253 253 253 253 253 253 253\n",
      " 168 143 166 253 253 253 253 253 253 253 123   0   0   0   0   0   0   0\n",
      "   0   0 174 253 253 253 253 253 253 253 253 253 253 253 249 247 247 169\n",
      " 117 117  57   0   0   0   0   0   0   0   0   0   0 118 123 123 123 166\n",
      " 253 253 253 155 123 123  41   0   0   0   0   0   0   0   0   0   0   0\n",
      "   0   0   0   0   0   0   0   0   0   0   0   0   0   0   0   0   0   0\n",
      "   0   0   0   0   0   0   0   0   0   0   0   0   0   0   0   0   0   0\n",
      "   0   0   0   0   0   0   0   0   0   0   0   0   0   0   0   0   0   0\n",
      "   0   0   0   0   0   0   0   0   0   0   0   0   0   0   0   0   0   0\n",
      "   0   0   0   0   0   0   0   0   0   0   0   0   0   0   0   0   0   0\n",
      "   0   0   0   0   0   0   0   0   0   0   0   0   0   0   0   0   0   0\n",
      "   0   0   0   0   0   0   0   0   0   0   0   0   0   0   0   0   0   0\n",
      "   0   0   0   0   0   0   0   0   0   0]\n",
      "Datentyp after:  float32\n",
      "[0.         0.         0.         0.         0.         0.\n",
      " 0.         0.         0.         0.         0.         0.\n",
      " 0.         0.         0.         0.         0.         0.\n",
      " 0.         0.         0.         0.         0.         0.\n",
      " 0.         0.         0.         0.         0.         0.\n",
      " 0.         0.         0.         0.         0.         0.\n",
      " 0.         0.         0.         0.         0.         0.\n",
      " 0.         0.         0.         0.         0.         0.\n",
      " 0.         0.         0.         0.         0.         0.\n",
      " 0.         0.         0.         0.         0.         0.\n",
      " 0.         0.         0.         0.         0.         0.\n",
      " 0.         0.         0.         0.         0.         0.\n",
      " 0.         0.         0.         0.         0.         0.\n",
      " 0.         0.         0.         0.         0.         0.\n",
      " 0.         0.         0.         0.         0.         0.\n",
      " 0.         0.         0.         0.         0.45490196 0.49019608\n",
      " 0.67058825 1.         1.         0.5882353  0.3647059  0.\n",
      " 0.         0.         0.         0.         0.         0.\n",
      " 0.         0.         0.         0.         0.         0.\n",
      " 0.         0.         0.         0.         0.         0.\n",
      " 0.         0.6627451  0.99215686 0.99215686 0.99215686 0.99215686\n",
      " 0.99215686 0.99215686 0.85490197 0.11764706 0.         0.\n",
      " 0.         0.         0.         0.         0.         0.\n",
      " 0.         0.         0.         0.         0.         0.\n",
      " 0.         0.         0.         0.         0.6627451  0.99215686\n",
      " 0.99215686 0.99215686 0.8352941  0.5568628  0.6901961  0.99215686\n",
      " 0.99215686 0.47843137 0.         0.         0.         0.\n",
      " 0.         0.         0.         0.         0.         0.\n",
      " 0.         0.         0.         0.         0.         0.\n",
      " 0.         0.20392157 0.98039216 0.99215686 0.8235294  0.1254902\n",
      " 0.04705882 0.         0.02352941 0.80784315 0.99215686 0.54901963\n",
      " 0.         0.         0.         0.         0.         0.\n",
      " 0.         0.         0.         0.         0.         0.\n",
      " 0.         0.         0.         0.         0.         0.3019608\n",
      " 0.9843137  0.8235294  0.09803922 0.         0.         0.\n",
      " 0.47843137 0.972549   0.99215686 0.25490198 0.         0.\n",
      " 0.         0.         0.         0.         0.         0.\n",
      " 0.         0.         0.         0.         0.         0.\n",
      " 0.         0.         0.         0.         0.12156863 0.07058824\n",
      " 0.         0.         0.         0.         0.81960785 0.99215686\n",
      " 0.99215686 0.25490198 0.         0.         0.         0.\n",
      " 0.         0.         0.         0.         0.         0.\n",
      " 0.         0.         0.         0.         0.         0.\n",
      " 0.         0.         0.         0.         0.         0.\n",
      " 0.         0.45882353 0.96862745 0.99215686 0.7764706  0.03921569\n",
      " 0.         0.         0.         0.         0.         0.\n",
      " 0.         0.         0.         0.         0.         0.\n",
      " 0.         0.         0.         0.         0.         0.\n",
      " 0.         0.         0.         0.         0.29803923 0.96862745\n",
      " 0.99215686 0.90588236 0.24705882 0.         0.         0.\n",
      " 0.         0.         0.         0.         0.         0.\n",
      " 0.         0.         0.         0.         0.         0.\n",
      " 0.         0.         0.         0.         0.         0.\n",
      " 0.         0.         0.5019608  0.99215686 0.99215686 0.5647059\n",
      " 0.         0.         0.         0.         0.         0.\n",
      " 0.         0.         0.         0.         0.         0.\n",
      " 0.         0.         0.         0.         0.         0.\n",
      " 0.         0.         0.         0.         0.         0.6901961\n",
      " 0.9647059  0.99215686 0.62352943 0.04705882 0.         0.\n",
      " 0.         0.         0.         0.         0.         0.\n",
      " 0.         0.         0.         0.         0.         0.\n",
      " 0.         0.         0.         0.         0.         0.\n",
      " 0.         0.         0.09803922 0.91764706 0.99215686 0.9137255\n",
      " 0.13725491 0.         0.         0.         0.         0.\n",
      " 0.         0.         0.         0.         0.         0.\n",
      " 0.         0.         0.         0.         0.         0.\n",
      " 0.         0.         0.         0.         0.         0.\n",
      " 0.7764706  0.99215686 0.99215686 0.5529412  0.         0.\n",
      " 0.         0.         0.         0.         0.         0.\n",
      " 0.         0.         0.         0.         0.         0.\n",
      " 0.         0.         0.         0.         0.         0.\n",
      " 0.         0.         0.         0.30588236 0.972549   0.99215686\n",
      " 0.7411765  0.04705882 0.         0.         0.         0.\n",
      " 0.         0.         0.         0.         0.         0.\n",
      " 0.         0.         0.         0.         0.         0.\n",
      " 0.         0.         0.         0.         0.         0.\n",
      " 0.07450981 0.78431374 0.99215686 0.99215686 0.5529412  0.\n",
      " 0.         0.         0.         0.         0.         0.\n",
      " 0.         0.         0.         0.         0.         0.\n",
      " 0.         0.         0.         0.         0.         0.\n",
      " 0.         0.         0.         0.         0.5254902  0.99215686\n",
      " 0.99215686 0.6784314  0.04705882 0.         0.         0.\n",
      " 0.         0.         0.         0.         0.         0.\n",
      " 0.         0.         0.         0.         0.         0.\n",
      " 0.         0.         0.         0.         0.         0.\n",
      " 0.         0.         0.972549   0.99215686 0.99215686 0.09803922\n",
      " 0.         0.         0.         0.         0.         0.\n",
      " 0.         0.         0.         0.         0.         0.\n",
      " 0.         0.         0.         0.         0.         0.\n",
      " 0.         0.         0.         0.         0.         0.\n",
      " 0.972549   0.99215686 0.99215686 0.16862746 0.07843138 0.07843138\n",
      " 0.07843138 0.07843138 0.01960784 0.         0.01960784 0.07843138\n",
      " 0.07843138 0.14509805 0.5882353  0.5882353  0.5882353  0.5764706\n",
      " 0.03921569 0.         0.         0.         0.         0.\n",
      " 0.         0.         0.         0.         0.972549   0.99215686\n",
      " 0.99215686 0.99215686 0.99215686 0.99215686 0.99215686 0.99215686\n",
      " 0.65882355 0.56078434 0.6509804  0.99215686 0.99215686 0.99215686\n",
      " 0.99215686 0.99215686 0.99215686 0.99215686 0.48235294 0.\n",
      " 0.         0.         0.         0.         0.         0.\n",
      " 0.         0.         0.68235296 0.99215686 0.99215686 0.99215686\n",
      " 0.99215686 0.99215686 0.99215686 0.99215686 0.99215686 0.99215686\n",
      " 0.99215686 0.99215686 0.9764706  0.96862745 0.96862745 0.6627451\n",
      " 0.45882353 0.45882353 0.22352941 0.         0.         0.\n",
      " 0.         0.         0.         0.         0.         0.\n",
      " 0.         0.4627451  0.48235294 0.48235294 0.48235294 0.6509804\n",
      " 0.99215686 0.99215686 0.99215686 0.60784316 0.48235294 0.48235294\n",
      " 0.16078432 0.         0.         0.         0.         0.\n",
      " 0.         0.         0.         0.         0.         0.\n",
      " 0.         0.         0.         0.         0.         0.\n",
      " 0.         0.         0.         0.         0.         0.\n",
      " 0.         0.         0.         0.         0.         0.\n",
      " 0.         0.         0.         0.         0.         0.\n",
      " 0.         0.         0.         0.         0.         0.\n",
      " 0.         0.         0.         0.         0.         0.\n",
      " 0.         0.         0.         0.         0.         0.\n",
      " 0.         0.         0.         0.         0.         0.\n",
      " 0.         0.         0.         0.         0.         0.\n",
      " 0.         0.         0.         0.         0.         0.\n",
      " 0.         0.         0.         0.         0.         0.\n",
      " 0.         0.         0.         0.         0.         0.\n",
      " 0.         0.         0.         0.         0.         0.\n",
      " 0.         0.         0.         0.         0.         0.\n",
      " 0.         0.         0.         0.         0.         0.\n",
      " 0.         0.         0.         0.         0.         0.\n",
      " 0.         0.         0.         0.         0.         0.\n",
      " 0.         0.         0.         0.         0.         0.\n",
      " 0.         0.         0.         0.         0.         0.\n",
      " 0.         0.         0.         0.         0.         0.\n",
      " 0.         0.         0.         0.         0.         0.\n",
      " 0.         0.         0.         0.         0.         0.\n",
      " 0.         0.         0.         0.        ]\n"
     ]
    }
   ],
   "source": [
    "train_images = train_images.reshape((60000, 28 * 28))\n",
    "train_images = train_images.astype('float32') / 255\n",
    "\n",
    "print(\"Label: \", test_labels[1])\n",
    "test_images = test_images.reshape((10000, 28 * 28))\n",
    "print(\"Datentyp before: \", test_images.dtype)\n",
    "print(test_images[1])\n",
    "test_images = test_images.astype('float32') / 255\n",
    "print(\"Datentyp after: \", test_images.dtype)\n",
    "print(test_images[1])"
   ]
  },
  {
   "cell_type": "markdown",
   "metadata": {},
   "source": [
    "---\n",
    "---\n",
    "##### Kodieren der Klassen (Ziffern) von 0 bis 9 - mit One-Hot-Kodierung"
   ]
  },
  {
   "cell_type": "code",
   "execution_count": 129,
   "metadata": {},
   "outputs": [
    {
     "name": "stdout",
     "output_type": "stream",
     "text": [
      "Beispiel Label vor der Encodierung:  0\n",
      "Beispiel Label vor der Encodierung:  2\n",
      "Beilspiel Label nach der Encodierung:  [1. 0. 0. 0. 0. 0. 0. 0. 0. 0.]\n",
      "Beispiel Label vor der Encodierung:  [0. 0. 1. 0. 0. 0. 0. 0. 0. 0.]\n"
     ]
    }
   ],
   "source": [
    "from keras.utils import to_categorical\n",
    "\n",
    "print(\"Beispiel Label vor der Encodierung: \", train_labels[1])\n",
    "print(\"Beispiel Label vor der Encodierung: \", train_labels[5])\n",
    "train_labels = to_categorical(train_labels)\n",
    "print(\"Beilspiel Label nach der Encodierung: \", train_labels[1])\n",
    "print(\"Beispiel Label vor der Encodierung: \", train_labels[5])\n",
    "test_labels = to_categorical(test_labels)"
   ]
  },
  {
   "cell_type": "markdown",
   "metadata": {},
   "source": [
    "---\n",
    "---\n",
    "### Netz trainieren\n",
    "+ `fit()` übergibt dem Modell (NN) die Numpy-Arrays der Eingabedaten `train_images` + Zielwerte `train_labels` \n",
    "+ `epochs` wie oft wir den gesamten Trainingssatz  durchlaufen möchten \n",
    "+ `batch_size`, Stapelgröße - wie viele Samples wir für eine Aktualisierung der Modellgewichte verwenden. "
   ]
  },
  {
   "cell_type": "code",
   "execution_count": 130,
   "metadata": {},
   "outputs": [
    {
     "name": "stdout",
     "output_type": "stream",
     "text": [
      "Epoch 1/20\n",
      "469/469 [==============================] - 3s 6ms/step - loss: 0.4603 - accuracy: 0.8760\n",
      "Epoch 2/20\n",
      "469/469 [==============================] - 3s 6ms/step - loss: 0.2689 - accuracy: 0.9218\n",
      "Epoch 3/20\n",
      "469/469 [==============================] - 3s 6ms/step - loss: 0.2172 - accuracy: 0.9369\n",
      "Epoch 4/20\n",
      "469/469 [==============================] - 3s 6ms/step - loss: 0.1773 - accuracy: 0.9484\n",
      "Epoch 5/20\n",
      "469/469 [==============================] - 3s 6ms/step - loss: 0.1477 - accuracy: 0.9567\n",
      "Epoch 6/20\n",
      "469/469 [==============================] - 3s 6ms/step - loss: 0.1245 - accuracy: 0.9641\n",
      "Epoch 7/20\n",
      "469/469 [==============================] - 3s 6ms/step - loss: 0.1075 - accuracy: 0.9688\n",
      "Epoch 8/20\n",
      "469/469 [==============================] - 3s 5ms/step - loss: 0.0936 - accuracy: 0.9725\n",
      "Epoch 9/20\n",
      "469/469 [==============================] - 2s 5ms/step - loss: 0.0817 - accuracy: 0.9762\n",
      "Epoch 10/20\n",
      "469/469 [==============================] - 3s 6ms/step - loss: 0.0723 - accuracy: 0.9789\n",
      "Epoch 11/20\n",
      "469/469 [==============================] - 3s 6ms/step - loss: 0.0642 - accuracy: 0.9816\n",
      "Epoch 12/20\n",
      "469/469 [==============================] - 3s 6ms/step - loss: 0.0576 - accuracy: 0.9841\n",
      "Epoch 13/20\n",
      "469/469 [==============================] - 3s 6ms/step - loss: 0.0514 - accuracy: 0.9851\n",
      "Epoch 14/20\n",
      "469/469 [==============================] - 3s 6ms/step - loss: 0.0462 - accuracy: 0.9873\n",
      "Epoch 15/20\n",
      "469/469 [==============================] - 3s 6ms/step - loss: 0.0417 - accuracy: 0.9883\n",
      "Epoch 16/20\n",
      "469/469 [==============================] - 3s 5ms/step - loss: 0.0375 - accuracy: 0.9898\n",
      "Epoch 17/20\n",
      "469/469 [==============================] - 3s 6ms/step - loss: 0.0337 - accuracy: 0.9911\n",
      "Epoch 18/20\n",
      "469/469 [==============================] - 3s 6ms/step - loss: 0.0304 - accuracy: 0.9920\n",
      "Epoch 19/20\n",
      "469/469 [==============================] - 3s 6ms/step - loss: 0.0272 - accuracy: 0.9930\n",
      "Epoch 20/20\n",
      "469/469 [==============================] - 3s 5ms/step - loss: 0.0246 - accuracy: 0.9940\n",
      "Epoch 1/20\n",
      "469/469 [==============================] - 3s 6ms/step - loss: 0.0221 - accuracy: 0.9947 - val_loss: 0.0611 - val_accuracy: 0.9802\n",
      "Epoch 2/20\n",
      "469/469 [==============================] - 3s 6ms/step - loss: 0.0197 - accuracy: 0.9957 - val_loss: 0.0602 - val_accuracy: 0.9797\n",
      "Epoch 3/20\n",
      "469/469 [==============================] - 3s 6ms/step - loss: 0.0182 - accuracy: 0.9964 - val_loss: 0.0586 - val_accuracy: 0.9807\n",
      "Epoch 4/20\n",
      "469/469 [==============================] - 3s 6ms/step - loss: 0.0160 - accuracy: 0.9969 - val_loss: 0.0604 - val_accuracy: 0.9802\n",
      "Epoch 5/20\n",
      "469/469 [==============================] - 3s 6ms/step - loss: 0.0144 - accuracy: 0.9974 - val_loss: 0.0629 - val_accuracy: 0.9808\n",
      "Epoch 6/20\n",
      "469/469 [==============================] - 3s 6ms/step - loss: 0.0132 - accuracy: 0.9976 - val_loss: 0.0598 - val_accuracy: 0.9805\n",
      "Epoch 7/20\n",
      "469/469 [==============================] - 3s 6ms/step - loss: 0.0117 - accuracy: 0.9980 - val_loss: 0.0600 - val_accuracy: 0.9815\n",
      "Epoch 8/20\n",
      "469/469 [==============================] - 3s 6ms/step - loss: 0.0106 - accuracy: 0.9983 - val_loss: 0.0585 - val_accuracy: 0.9820\n",
      "Epoch 9/20\n",
      "469/469 [==============================] - 3s 6ms/step - loss: 0.0096 - accuracy: 0.9988 - val_loss: 0.0608 - val_accuracy: 0.9818\n",
      "Epoch 10/20\n",
      "469/469 [==============================] - 3s 6ms/step - loss: 0.0088 - accuracy: 0.9989 - val_loss: 0.0616 - val_accuracy: 0.9806\n",
      "Epoch 11/20\n",
      "469/469 [==============================] - 3s 6ms/step - loss: 0.0077 - accuracy: 0.9991 - val_loss: 0.0594 - val_accuracy: 0.9815\n",
      "Epoch 12/20\n",
      "469/469 [==============================] - 3s 6ms/step - loss: 0.0072 - accuracy: 0.9992 - val_loss: 0.0578 - val_accuracy: 0.9815\n",
      "Epoch 13/20\n",
      "469/469 [==============================] - 3s 6ms/step - loss: 0.0064 - accuracy: 0.9992 - val_loss: 0.0610 - val_accuracy: 0.9810\n",
      "Epoch 14/20\n",
      "469/469 [==============================] - 3s 6ms/step - loss: 0.0058 - accuracy: 0.9993 - val_loss: 0.0587 - val_accuracy: 0.9819\n",
      "Epoch 15/20\n",
      "469/469 [==============================] - 3s 6ms/step - loss: 0.0052 - accuracy: 0.9995 - val_loss: 0.0602 - val_accuracy: 0.9822\n",
      "Epoch 16/20\n",
      "469/469 [==============================] - 3s 6ms/step - loss: 0.0047 - accuracy: 0.9996 - val_loss: 0.0625 - val_accuracy: 0.9815\n",
      "Epoch 17/20\n",
      "469/469 [==============================] - 3s 6ms/step - loss: 0.0043 - accuracy: 0.9996 - val_loss: 0.0597 - val_accuracy: 0.9815\n",
      "Epoch 18/20\n",
      "469/469 [==============================] - 3s 6ms/step - loss: 0.0039 - accuracy: 0.9997 - val_loss: 0.0614 - val_accuracy: 0.9815\n",
      "Epoch 19/20\n",
      "469/469 [==============================] - 3s 6ms/step - loss: 0.0036 - accuracy: 0.9997 - val_loss: 0.0599 - val_accuracy: 0.9819\n",
      "Epoch 20/20\n",
      "469/469 [==============================] - 3s 6ms/step - loss: 0.0033 - accuracy: 0.9998 - val_loss: 0.0609 - val_accuracy: 0.9825\n"
     ]
    }
   ],
   "source": [
    "history=network.fit(train_images, train_labels, epochs=20, batch_size=128)\n",
    "history = network.fit(train_images, train_labels, epochs=20, batch_size=128, validation_data=(test_images, test_labels))"
   ]
  },
  {
   "cell_type": "markdown",
   "metadata": {},
   "source": [
    "### Validierung durch Visualisierung des Trainingsdurchlaufs\n",
    "\n",
    "+ `loss` Verlustfunktion\n",
    "+ `acc` accuracy, Genauigkeit der Trainningsdaten, Korrektklassifizierungsrate"
   ]
  },
  {
   "cell_type": "code",
   "execution_count": null,
   "metadata": {},
   "outputs": [],
   "source": [
    "import numpy as np\n",
    "import matplotlib.pyplot as plt\n",
    "%matplotlib inline\n",
    "\n",
    "# render the loss and validation loss\n",
    "#plt.plot(history.history['loss'], label='loss')\n",
    "#plt.plot(history.history['val_loss'], label='val_loss')\n",
    "#plt.plot(history.history['accuracy'], label='accuracy')\n",
    "#plt.plot(history.history['val_accuracy'], label='val_accuracy')\n",
    "#plt.xlabel('epoch')\n",
    "#plt.legend()\n",
    "#plt.show()\n",
    "#print(\"Abnahme des Fehlers, bzw. Anstieg der Genauigkeit über die Epochen\")"
   ]
  },
  {
   "cell_type": "markdown",
   "metadata": {},
   "source": [
    "### Evaluierung"
   ]
  },
  {
   "cell_type": "code",
   "execution_count": 132,
   "metadata": {},
   "outputs": [
    {
     "name": "stdout",
     "output_type": "stream",
     "text": [
      "313/313 [==============================] - 1s 2ms/step - loss: 0.0609 - accuracy: 0.9825\n",
      "test_loss (Verlustrate): 0.06090712919831276\n",
      "test_acc (Korrektklassifzierungsrate): 0.9825000166893005\n"
     ]
    }
   ],
   "source": [
    "# evaluate the model using the test data and print the accuracy\n",
    "test_loss, test_acc = network.evaluate(test_images, test_labels)\n",
    "print('test_loss (Verlustrate):', test_loss)\n",
    "print('test_acc (Korrektklassifzierungsrate):', test_acc)"
   ]
  },
  {
   "cell_type": "code",
   "execution_count": 133,
   "metadata": {},
   "outputs": [
    {
     "data": {
      "text/plain": [
       "<matplotlib.image.AxesImage at 0x7f31da23abe0>"
      ]
     },
     "execution_count": 133,
     "metadata": {},
     "output_type": "execute_result"
    },
    {
     "data": {
      "image/png": "[encoded data removed]",
      "text/plain": [
       "<Figure size 640x480 with 1 Axes>"
      ]
     },
     "metadata": {},
     "output_type": "display_data"
    }
   ],
   "source": [
    "# show the second image in the test data\n",
    "test_im = test_images[1]\n",
    "plt.imshow(test_im.reshape(28,28), cmap='Greys')"
   ]
  },
  {
   "cell_type": "code",
   "execution_count": null,
   "metadata": {},
   "outputs": [
    {
     "name": "stdout",
     "output_type": "stream",
     "text": [
      "313/313 [==============================] - 1s 2ms/step\n",
      "[8.2482438e-11 1.6682121e-08 9.9999958e-01 2.0683094e-08 1.4776265e-16\n",
      " 1.6219235e-09 6.7379879e-09 1.8496983e-18 3.2358741e-07 3.1217357e-15]\n"
     ]
    }
   ],
   "source": [
    "# plott the second image in the test data with the predicted label\n",
    "predictions = network.predict(test_images)\n",
    "print(predictions[1])"
   ]
  },
  {
   "cell_type": "code",
   "execution_count": null,
   "metadata": {},
   "outputs": [
    {
     "name": "stdout",
     "output_type": "stream",
     "text": [
      "2\n"
     ]
    }
   ],
   "source": [
    "#print predicted label as integer\n",
    "print(np.argmax(predictions[1]))"
   ]
  },
  {
   "cell_type": "code",
   "execution_count": null,
   "metadata": {},
   "outputs": [
    {
     "name": "stdout",
     "output_type": "stream",
     "text": [
      "[0. 0. 1. 0. 0. 0. 0. 0. 0. 0.]\n"
     ]
    }
   ],
   "source": [
    "#print test label\n",
    "print(test_labels[1])"
   ]
  },
  {
   "cell_type": "code",
   "execution_count": null,
   "metadata": {},
   "outputs": [
    {
     "data": {
      "image/png": "[encoded data removed]",
      "text/plain": [
       "<Figure size 640x480 with 1 Axes>"
      ]
     },
     "metadata": {},
     "output_type": "display_data"
    }
   ],
   "source": [
    "#plott the predicted img\n",
    "\n",
    "plt.imshow(test_im.reshape(28,28), cmap='Greys')\n",
    "plt.title(f\"Label: {test_labels[1]}\\nPredicted: {np.argmax(predictions[1])}\")\n",
    "plt.axis('off')\n",
    "plt.show()"
   ]
  },
  {
   "cell_type": "code",
   "execution_count": null,
   "metadata": {},
   "outputs": [],
   "source": [
    "#Save model\n",
    "network.save('mnist_trained_model.h5')  # creates a HDF5 file"
   ]
  }
 ],
 "metadata": {
  "kernelspec": {
   "display_name": "Python 3 (ipykernel)",
   "language": "python",
   "name": "python3"
  },
  "language_info": {
   "codemirror_mode": {
    "name": "ipython",
    "version": 3
   },
   "file_extension": ".py",
   "mimetype": "text/x-python",
   "name": "python",
   "nbconvert_exporter": "python",
   "pygments_lexer": "ipython3",
   "version": "3.9.7"
  }
 },
 "nbformat": 4,
 "nbformat_minor": 4
}
