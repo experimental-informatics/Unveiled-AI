{
 "cells": [
  {
   "cell_type": "markdown",
   "metadata": {},
   "source": [
    "# Creative Coding for Artist and Designers\n",
    "\n",
    "\n",
    "Creative coding is the practice of using computer programming to create art, design, and interactive experiences. It combines technical skills with artistic expression, allowing artists and designers to explore new forms of creativity through code.\n",
    " \n",
    " Some examples of creative coding include:\n",
    " - Generative art: Creating artwork using algorithms and randomness\n",
    " - Interactive installations: Building experiences that respond to user input\n",
    " - Data visualization: Representing data in visually compelling ways\n",
    " - Digital art: Using code to create static or animated digital artwork\n",
    "\n"
   ]
  },
  {
   "cell_type": "markdown",
   "metadata": {},
   "source": [
    "Programming Languages and Tools Used in Creative Coding:\n",
    "\n",
    "- [Python](https://www.python.org/): A versatile language great for data visualization and generative art, with libraries like Pygame and Processing.py\n",
    "\n",
    "- [JavaScript](https://developer.mozilla.org/en-US/docs/Web/JavaScript): Powers web-based creative coding through libraries like Three.js and Paper.js. Essential for interactive web experiences.\n",
    "\n",
    "- [Processing / p5.js](https://processing.org/): Designed specifically for visual arts and creative coding. Processing is Java-based while p5.js is JavaScript-based.\n",
    "\n",
    "- [OpenFrameworks](https://openframeworks.cc/): A C++ toolkit for creative coding, excellent for real-time graphics and complex installations.\n",
    "\n",
    "- [TouchDesigner](https://derivative.ca/): A visual programming language specialized in real-time interactive multimedia content and generative art.\n",
    "\n",
    "- [Max/MSP](https://cycling74.com/products/max): A visual programming language popular for sound art and interactive audio-visual installations.\n",
    "\n",
    "- [Unity](https://unity.com/): A powerful game engine and development platform used for creating interactive art, VR/AR experiences, and creative coding projects.\n",
    "\n",
    "- [GLSL/WebGL](https://www.khronos.org/webgl/): Low-level graphics programming languages for creating custom visual effects and shaders.\n",
    "\n",
    "- [Arduino](https://www.arduino.cc/): An open-source electronics platform for creating interactive physical computing projects and installations.\n"
   ]
  },
  {
   "cell_type": "markdown",
   "metadata": {},
   "source": [
    "In order to learn creative coding, you can start with the basics of programming and then move on to more advanced topics. Here are some resources to get you started:\n",
    "\n",
    "- [Codecademy](https://www.codecademy.com/learn): Offers interactive coding lessons in Python, JavaScript, and more.\n",
    "\n",
    "- [Khan Academy](https://www.khanacademy.org/computing/computer-programming): Provides free coding tutorials and exercises in JavaScript, Python, and more.\n",
    "\n",
    "- [Coursera](https://www.coursera.org/courses?query=creative%20coding): Offers courses on creative coding with a focus on Python, JavaScript, and more.\n",
    "\n",
    "- [Kadenze](https://www.kadenze.com/): Online courses for creative related industry.\n",
    "\n",
    " \n",
    "\n"
   ]
  },
  {
   "cell_type": "markdown",
   "metadata": {},
   "source": [
    "This is an arduino code for blinking a lightbulb\n",
    "## Arduino\n",
    "``` c\n",
    "const int ledPin = 18;  // Built-in LED on most Arduino boards, or connect LED to pin 13\n",
    "\n",
    "void setup() {\n",
    "  pinMode(ledPin, OUTPUT);  // Initialize the LED pin as an output\n",
    "}\n",
    "\n",
    "void loop() {\n",
    "  digitalWrite(ledPin, HIGH);  // Turn the LED on\n",
    "  delay(1000);                 // Wait for 1 second\n",
    "  digitalWrite(ledPin, LOW);   // Turn the LED off\n",
    "  delay(1000);                 // Wait for 1 second\n",
    "}\n",
    "\n",
    "The same functions that runs in different programming language python \n",
    "```\n",
    "## Python GPIO\n",
    "```python\n",
    "import RPi.GPIO as GPIO\n",
    "import time\n",
    "\n",
    "LED_PIN = 18  # GPIO pin number where LED is connected\n",
    "\n",
    "GPIO.setmode(GPIO.BCM)  # Use Broadcom pin-numbering scheme\n",
    "GPIO.setup(LED_PIN, GPIO.OUT)  # Set LED pin as output\n",
    "\n",
    "while True:\n",
    "    GPIO.output(LED_PIN, GPIO.HIGH)  # Turn LED on\n",
    "    time.sleep(1)                    # Wait for 1 second\n",
    "    GPIO.output(LED_PIN, GPIO.LOW)   # Turn LED off\n",
    "    time.sleep(1)                    # Wait for 1 second\n",
    "\n",
    "GPIO.cleanup()  # Clean up GPIO on CTRL+C exit\n",
    "```\n",
    "\n",
    "As you can see, although both functions the same way*, it was written differently in syntax."
   ]
  },
  {
   "cell_type": "markdown",
   "metadata": {},
   "source": [
    "# \"50 Shades of Grey\" by Amnon Owed.\n",
    "\n",
    "\n",
    "\n",
    " http://www.magicandlove.com/blog/artworks/50-shades-of-grey/"
   ]
  }
 ],
 "metadata": {
  "anaconda-cloud": {},
  "kernelspec": {
   "display_name": "Python 3",
   "language": "python",
   "name": "python3"
  },
  "language_info": {
   "codemirror_mode": {
    "name": "ipython",
    "version": 3
   },
   "file_extension": ".py",
   "mimetype": "text/x-python",
   "name": "python",
   "nbconvert_exporter": "python",
   "pygments_lexer": "ipython3",
   "version": "3.9.20"
  },
  "toc": {
   "base_numbering": 1,
   "nav_menu": {},
   "number_sections": true,
   "sideBar": true,
   "skip_h1_title": false,
   "title_cell": "Table of Contents",
   "title_sidebar": "Contents",
   "toc_cell": false,
   "toc_position": {},
   "toc_section_display": true,
   "toc_window_display": true
  }
 },
 "nbformat": 4,
 "nbformat_minor": 4
}
