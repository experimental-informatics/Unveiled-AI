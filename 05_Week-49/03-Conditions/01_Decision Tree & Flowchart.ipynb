{
 "cells": [
  {
   "cell_type": "markdown",
   "metadata": {},
   "source": [
    "# Decision Making and Conditionals\n",
    "\n",
    "Imagine you have a set of instructions, and you want the computer to make decisions based on certain conditions. That's where \"if/else\" statements come in.\n",
    "\n",
    "\"if/else\" is like making choices based on what's happening. You check different conditions, and depending on what's true, you take specific actions. If none of the conditions apply, you have a default action or decision to fall back on. It's similar to how you make everyday decisions based on the circumstances you encounter.\n",
    "\n",
    "\n",
    "**Is it Raining?**\n",
    "  - Yes\n",
    "    - Take an Umbrella\n",
    "  - No\n",
    "    - **Is it Sunny?**\n",
    "      - Yes\n",
    "        - Wear Sunglasses\n",
    "      - No\n",
    "        - Just Go Outside\n",
    "    - Just Go Outside\n"
   ]
  },
  {
   "cell_type": "markdown",
   "metadata": {},
   "source": [
    "## Decision tree\n",
    "A decision tree is a visual representation of a decision-making process that resembles a tree-like structure. It's a fundamental concept in computer science, data analysis, and machine learning. Here's a simple explanation:\n",
    "\n",
    "\n",
    "<img src=\"image/helpful-decision-tree-about-using-chatgpt-source-ubc-links-v0-d0lb6nrcfvva1.png\" alt=\"Decision Tree\" width=\"300\" />\n"
   ]
  },
  {
   "cell_type": "markdown",
   "metadata": {},
   "source": [
    "## Flowchart \n",
    "\n",
    "A flowchart is a visual representation of a series of steps or processes, often used to illustrate how something works or to plan out a project. \n",
    "\n",
    "![image](image/decision1.jpg)\n",
    "\n",
    "In the case of having a installation, when audience enter the room the light will be off, vice versa\n",
    "\n",
    "![image](image/decision2.jpg)"
   ]
  },
  {
   "cell_type": "markdown",
   "metadata": {},
   "source": [
    "# Additional: Decision Making & Mapping in art\n",
    "\n",
    "Decision Making (Discrete) & Mapping (Continuous) are two techniques often used in interactive installations.\n",
    "\n",
    "While we learnt that we could divide different conditions as interactive responses with decision making, it is difficult for a linear transition to happen, thus mapping comes to work. Mapping is a different strategy used instead of conditions, whereas interaction happens continuously, we deduct certain informations just to extract the things we want.\n",
    "\n",
    "Here is an example of artwork, that could interpret in both ways. Ones having a sensor to capture the whole movements of people, and **map** the movements to where to rain. The other would be making **decisions** with individual sensors which to be triggered.  \n",
    "\n",
    "[Random International (Hannes Koch and Florian Ortkras): Rain Room](https://www.youtube.com/watch?v=tOARXy-f_GY) ![](https://www.startpage.com/av/proxy-image?piurl=https%3A%2F%2Fstatic.dezeen.com%2Fuploads%2F2012%2F10%2Fdezeen_Rain-Room-by-rAndom-International-at-the-Barbican_ss_1.jpg&sp=1701900920T490cbaa333300aa91c72e0e46c20b258cfbd068709404db4113287fa524ccba3)\n",
    "\n",
    "https://www.lozano-hemmer.com/pulse_room.php\n"
   ]
  }
 ],
 "metadata": {
  "kernelspec": {
   "display_name": "Python 3",
   "language": "python",
   "name": "python3"
  },
  "language_info": {
   "codemirror_mode": {
    "name": "ipython",
    "version": 3
   },
   "file_extension": ".py",
   "mimetype": "text/x-python",
   "name": "python",
   "nbconvert_exporter": "python",
   "pygments_lexer": "ipython3",
   "version": "3.8.3"
  }
 },
 "nbformat": 4,
 "nbformat_minor": 4
}
