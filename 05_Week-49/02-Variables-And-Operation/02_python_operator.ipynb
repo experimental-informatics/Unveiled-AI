{
 "cells": [
  {
   "cell_type": "markdown",
   "metadata": {},
   "source": [
    "# Python - Operators\n",
    "\n",
    "Operators in programming are **symbols** used to perform operations on data or variables.They allow you to manipulate and work with different types of data, such as numbers, text, and more. \n"
   ]
  },
  {
   "cell_type": "markdown",
   "metadata": {},
   "source": [
    "\n",
    "There are several types of operators in programming, and here are some common categories:\n",
    "\n",
    "### Basic Operators\n",
    "\n",
    "1. **Arithmetic Operators:** These operators are used to perform mathematical calculations like addition, subtraction, multiplication, division, and more. For example:\n",
    "   - `+` (Addition): Adds two numbers together.\n",
    "   - `-` (Subtraction): Subtracts one number from another.\n",
    "   - `*` (Multiplication): Multiplies two numbers.\n",
    "   - `/` (Division): Divides one number by another.\n",
    "   - `%` (Modulo): Gives the remainder of a division.\n"
   ]
  },
  {
   "cell_type": "code",
   "execution_count": 1,
   "metadata": {},
   "outputs": [
    {
     "name": "stdout",
     "output_type": "stream",
     "text": [
      "7\n"
     ]
    }
   ],
   "source": [
    "a = 3\n",
    "b = 4\n",
    "\n",
    "print (a + b)"
   ]
  },
  {
   "cell_type": "code",
   "execution_count": 5,
   "metadata": {},
   "outputs": [
    {
     "name": "stdout",
     "output_type": "stream",
     "text": [
      "1\n"
     ]
    }
   ],
   "source": [
    "a = 7\n",
    "b = 3 \n",
    "\n",
    "print(a%b)"
   ]
  },
  {
   "cell_type": "markdown",
   "metadata": {},
   "source": [
    "2. **Comparison Operators:** These operators are used to compare two values and return a Boolean result (True or False). They are often used in conditional statements like `if` and `while`. For example:\n",
    "   - `==` (Equal to): Checks if two values are equal.\n",
    "   - `!=` (Not equal to): Checks if two values are not equal.\n",
    "   - `<` (Less than): Checks if one value is less than another.\n",
    "   - `>` (Greater than): Checks if one value is greater than another.\n",
    "   - `<=` (Less than or equal to): Checks if one value is less than or equal to another.\n",
    "   - `>=` (Greater than or equal to): Checks if one value is greater than or equal to another.\n",
    "\n",
    "3. **Logical Operators:** These operators are used to combine or modify Boolean values (True or False). They are often used to create more complex conditions. For example:\n",
    "   - `and` (Logical AND): Returns True if both conditions are True.\n",
    "   - `or` (Logical OR): Returns True if at least one condition is True.\n",
    "   - `not` (Logical NOT): Negates the value of a condition."
   ]
  },
  {
   "cell_type": "code",
   "execution_count": 7,
   "metadata": {},
   "outputs": [
    {
     "name": "stdout",
     "output_type": "stream",
     "text": [
      "True\n"
     ]
    }
   ],
   "source": [
    "print(7 > 3)"
   ]
  },
  {
   "cell_type": "code",
   "execution_count": 8,
   "metadata": {},
   "outputs": [
    {
     "name": "stdout",
     "output_type": "stream",
     "text": [
      "False\n"
     ]
    }
   ],
   "source": [
    "print(7 > 3 and 1 > 2)"
   ]
  },
  {
   "cell_type": "code",
   "execution_count": 9,
   "metadata": {},
   "outputs": [
    {
     "name": "stdout",
     "output_type": "stream",
     "text": [
      "True\n"
     ]
    }
   ],
   "source": [
    "print(3 != 1)"
   ]
  },
  {
   "cell_type": "markdown",
   "metadata": {},
   "source": [
    "\n",
    "4. **Assignment Operators:** These operators are used to assign values to variables. The most common assignment operator is `=` (assignment). For example:\n",
    "   - `x = 5` assigns the value 5 to the variable `x`.\n",
    "\n",
    "\n",
    "### Additional Operators\n",
    "\n",
    "5. **Bitwise Operators:** These operators work on individual bits of binary numbers. They are used in low-level programming and operations involving binary data.\n",
    "\n",
    "6. **Membership Operators:** These operators are used to test if a value is present in a sequence, such as a list or a string. For example:\n",
    "   - `in` checks if a value is in a sequence.\n",
    "   - `not in` checks if a value is not in a sequence.\n",
    "\n",
    "7. **Identity Operators:** These operators are used to compare the memory locations of two objects. They are often used to check if two variables reference the same object. For example:\n",
    "   - `is` checks if two variables refer to the same object.\n",
    "   - `is not` checks if two variables do not refer to the same object.\n",
    "\n",
    "Operators are fundamental to writing programs because they allow you to perform a wide range of operations and make decisions in your code. Depending on the task at hand, you'll use different operators to achieve your desired results."
   ]
  },
  {
   "cell_type": "markdown",
   "metadata": {},
   "source": [
    "## Usage of Operators\n",
    "\n",
    "incrementing value"
   ]
  },
  {
   "cell_type": "code",
   "execution_count": 12,
   "metadata": {},
   "outputs": [
    {
     "name": "stdout",
     "output_type": "stream",
     "text": [
      "6\n"
     ]
    }
   ],
   "source": [
    "a = 5\n",
    "a = a + 1\n",
    "print(a)"
   ]
  },
  {
   "cell_type": "code",
   "execution_count": 13,
   "metadata": {},
   "outputs": [
    {
     "name": "stdout",
     "output_type": "stream",
     "text": [
      "11\n"
     ]
    }
   ],
   "source": [
    "a = 10\n",
    "a += 1\n",
    "\n",
    "print(a)"
   ]
  }
 ],
 "metadata": {
  "kernelspec": {
   "display_name": "Python 3",
   "language": "python",
   "name": "python3"
  },
  "language_info": {
   "codemirror_mode": {
    "name": "ipython",
    "version": 3
   },
   "file_extension": ".py",
   "mimetype": "text/x-python",
   "name": "python",
   "nbconvert_exporter": "python",
   "pygments_lexer": "ipython3",
   "version": "3.7.9"
  }
 },
 "nbformat": 4,
 "nbformat_minor": 4
}
