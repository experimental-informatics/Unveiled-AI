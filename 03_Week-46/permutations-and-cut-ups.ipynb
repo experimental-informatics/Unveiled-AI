{
 "cells": [
  {
   "cell_type": "markdown",
   "metadata": {},
   "source": [
    "# Tristan Tzara \"How to Make a Dadaist Poem\" (1920)\n",
    "[Tzara Combinations](http://www.in-vacua.com/tzara.shtml?)\n",
    "## read newspaper in"
   ]
  },
  {
   "cell_type": "code",
   "execution_count": 1,
   "metadata": {},
   "outputs": [
    {
     "name": "stdout",
     "output_type": "stream",
     "text": [
      "\n",
      "Take a newspaper.\n",
      "Take some scissors.\n",
      "Choose from this paper an article of the length you want to make your poem.\n",
      "Cut out the article.\n",
      "Next carefully cut out each of the words that makes up this article and put them all in a bag.\n",
      "Shake gently.\n",
      "Next take out each cutting one after the other.\n",
      "Copy conscientiously in the order in which they left the bag.\n",
      "Them poem will resemble you.\n",
      "And there you are – an infinitely original author of charming sensibility, even though unappreciated by the vulgar herd.\n"
     ]
    },
    {
     "data": {
      "text/plain": [
       "str"
      ]
     },
     "execution_count": 1,
     "metadata": {},
     "output_type": "execute_result"
    }
   ],
   "source": [
    "newspaper = \"\"\"\n",
    "Take a newspaper.\n",
    "Take some scissors.\n",
    "Choose from this paper an article of the length you want to make your poem.\n",
    "Cut out the article.\n",
    "Next carefully cut out each of the words that makes up this article and put them all in a bag.\n",
    "Shake gently.\n",
    "Next take out each cutting one after the other.\n",
    "Copy conscientiously in the order in which they left the bag.\n",
    "Them poem will resemble you.\n",
    "And there you are – an infinitely original author of charming sensibility, even though unappreciated by the vulgar herd.\"\"\" \n",
    "\n",
    "print(newspaper)\n",
    "type(newspaper)"
   ]
  },
  {
   "cell_type": "markdown",
   "metadata": {},
   "source": [
    "## import necessary librairies..."
   ]
  },
  {
   "cell_type": "code",
   "execution_count": 3,
   "metadata": {},
   "outputs": [],
   "source": [
    "import random \n",
    "import textwrap"
   ]
  },
  {
   "cell_type": "markdown",
   "metadata": {},
   "source": [
    "## ...cut it up & print it"
   ]
  },
  {
   "cell_type": "code",
   "execution_count": 10,
   "metadata": {},
   "outputs": [
    {
     "name": "stdout",
     "output_type": "stream",
     "text": [
      "of want even each poem. Next you of from the them original after other. Copy are gently. of each up unappreciated order which article. they cutting conscientiously Take an there out one that the you Cut your the – herd. And infinitely carefully makes the author vulgar resemble out sensibility, some Choose this will a a scissors. the the bag. all Shake in poem article take words in cut paper Next make the newspaper. and Take to in though this you. left put article length bag. charming out an Them by\n"
     ]
    },
    {
     "data": {
      "text/plain": [
       "list"
      ]
     },
     "execution_count": 10,
     "metadata": {},
     "output_type": "execute_result"
    }
   ],
   "source": [
    "words=newspaper.split()\n",
    "random.shuffle(words)\n",
    "print(\" \".join(words))\n",
    "#print(textwrap.fill(\" \".join(words), 60))\n",
    "type(words)\n",
    "\n"
   ]
  },
  {
   "cell_type": "markdown",
   "metadata": {},
   "source": [
    "you can vizualize the code here: https://pythontutor.com/render.html#mode=display"
   ]
  },
  {
   "cell_type": "markdown",
   "metadata": {
    "tags": []
   },
   "source": [
    "# Brion Gysin- Permutations\n",
    "\n",
    "[Sound Poetry - I AM THAT I AM](https://www.youtube.com/watch?v=RnMKF5Zyc-0)\n",
    "\n",
    "Permutations of all the words in the sentence \"I AM THAT I AM\" (1960)."
   ]
  },
  {
   "cell_type": "code",
   "execution_count": 9,
   "metadata": {},
   "outputs": [
    {
     "name": "stdout",
     "output_type": "stream",
     "text": [
      "I am what I am\n",
      "I am what am I\n",
      "I am I what am\n",
      "I am I am what\n",
      "I am am what I\n",
      "I am am I what\n",
      "I what am I am\n",
      "I what am am I\n",
      "I what I am am\n",
      "I what I am am\n",
      "I what am am I\n",
      "I what am I am\n",
      "I I am what am\n",
      "I I am am what\n",
      "I I what am am\n",
      "I I what am am\n",
      "I I am am what\n",
      "I I am what am\n",
      "I am am what I\n",
      "I am am I what\n",
      "I am what am I\n",
      "I am what I am\n",
      "I am I am what\n",
      "I am I what am\n",
      "am I what I am\n",
      "am I what am I\n",
      "am I I what am\n",
      "am I I am what\n",
      "am I am what I\n",
      "am I am I what\n",
      "am what I I am\n",
      "am what I am I\n",
      "am what I I am\n",
      "am what I am I\n",
      "am what am I I\n",
      "am what am I I\n",
      "am I I what am\n",
      "am I I am what\n",
      "am I what I am\n",
      "am I what am I\n",
      "am I am I what\n",
      "am I am what I\n",
      "am am I what I\n",
      "am am I I what\n",
      "am am what I I\n",
      "am am what I I\n",
      "am am I I what\n",
      "am am I what I\n",
      "what I am I am\n",
      "what I am am I\n",
      "what I I am am\n",
      "what I I am am\n",
      "what I am am I\n",
      "what I am I am\n",
      "what am I I am\n",
      "what am I am I\n",
      "what am I I am\n",
      "what am I am I\n",
      "what am am I I\n",
      "what am am I I\n",
      "what I I am am\n",
      "what I I am am\n",
      "what I am I am\n",
      "what I am am I\n",
      "what I am I am\n",
      "what I am am I\n",
      "what am I am I\n",
      "what am I I am\n",
      "what am am I I\n",
      "what am am I I\n",
      "what am I I am\n",
      "what am I am I\n",
      "I I am what am\n",
      "I I am am what\n",
      "I I what am am\n",
      "I I what am am\n",
      "I I am am what\n",
      "I I am what am\n",
      "I am I what am\n",
      "I am I am what\n",
      "I am what I am\n",
      "I am what am I\n",
      "I am am I what\n",
      "I am am what I\n",
      "I what I am am\n",
      "I what I am am\n",
      "I what am I am\n",
      "I what am am I\n",
      "I what am I am\n",
      "I what am am I\n",
      "I am I am what\n",
      "I am I what am\n",
      "I am am I what\n",
      "I am am what I\n",
      "I am what I am\n",
      "I am what am I\n",
      "am I am what I\n",
      "am I am I what\n",
      "am I what am I\n",
      "am I what I am\n",
      "am I I am what\n",
      "am I I what am\n",
      "am am I what I\n",
      "am am I I what\n",
      "am am what I I\n",
      "am am what I I\n",
      "am am I I what\n",
      "am am I what I\n",
      "am what I am I\n",
      "am what I I am\n",
      "am what am I I\n",
      "am what am I I\n",
      "am what I I am\n",
      "am what I am I\n",
      "am I I am what\n",
      "am I I what am\n",
      "am I am I what\n",
      "am I am what I\n",
      "am I what I am\n",
      "am I what am I\n"
     ]
    }
   ],
   "source": [
    "# write python code that generates all permutations of the sentence 'I am what I am'.\n",
    "# print all the permutations.\n",
    "\n",
    "\n",
    "import itertools\n",
    "\n",
    "# create a list of the words in the sentence\n",
    "sentence = ['I', 'am', 'what', 'I', 'am']\n",
    "\n",
    "# create all permutations of the sentence\n",
    "permutations = itertools.permutations(sentence)\n",
    "\n",
    "# print each permutation\n",
    "for permutation in permutations:\n",
    "    print(' '.join(permutation))\n",
    "    "
   ]
  }
 ],
 "metadata": {
  "kernelspec": {
   "display_name": "Python 3 (ipykernel)",
   "language": "python",
   "name": "python3"
  },
  "language_info": {
   "codemirror_mode": {
    "name": "ipython",
    "version": 3
   },
   "file_extension": ".py",
   "mimetype": "text/x-python",
   "name": "python",
   "nbconvert_exporter": "python",
   "pygments_lexer": "ipython3",
   "version": "3.12.7"
  },
  "toc": {
   "base_numbering": 1,
   "nav_menu": {},
   "number_sections": true,
   "sideBar": true,
   "skip_h1_title": false,
   "title_cell": "Table of Contents",
   "title_sidebar": "Contents",
   "toc_cell": false,
   "toc_position": {},
   "toc_section_display": true,
   "toc_window_display": true
  }
 },
 "nbformat": 4,
 "nbformat_minor": 4
}
