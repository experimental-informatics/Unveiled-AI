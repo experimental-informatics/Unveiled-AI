{
 "cells": [
  {
   "cell_type": "markdown",
   "metadata": {},
   "source": [
    "# Python Introduction: For-Loop"
   ]
  },
  {
   "cell_type": "markdown",
   "metadata": {},
   "source": [
    "## Loops\n",
    "\n",
    "In Python, loops are control structures that allow you to **repeatedly execute a block of code** based on a specific condition or for a known number of iterations. They are fundamental in programming because they enable you to perform repetitive tasks.\n",
    "\n",
    "There are basically two methods of loops in python:<br>\n",
    "- for-loop\n",
    "    ```python\n",
    "    for i in range(5):\n",
    "        print(i)\n",
    "    ```\n",
    "- while-loop\n",
    " ```python\n",
    "    i = 0\n",
    "    while(i < 5):\n",
    "        print(i)\n",
    "        i = i + 1\n",
    "    ```\n",
    "    \n",
    "    \n",
    "For simple explaining, we now focus on the for-loop first.<br>\n",
    "We can use it if we wan't to execute a **block of code** n times. For that we'll use the build-in method `range()`:"
   ]
  },
  {
   "cell_type": "code",
   "execution_count": 2,
   "metadata": {},
   "outputs": [
    {
     "name": "stdout",
     "output_type": "stream",
     "text": [
      "1\n",
      "2\n",
      "3\n",
      "4\n",
      "5\n"
     ]
    }
   ],
   "source": [
    "print(1)\n",
    "print(2)\n",
    "print(3)\n",
    "print(4)\n",
    "print(5)"
   ]
  },
  {
   "cell_type": "code",
   "execution_count": 1,
   "metadata": {},
   "outputs": [
    {
     "name": "stdout",
     "output_type": "stream",
     "text": [
      "one iteration\n",
      "~ ~ ~ ~ ~ ~ ~ \n",
      "one iteration\n",
      "~ ~ ~ ~ ~ ~ ~ \n",
      "one iteration\n",
      "~ ~ ~ ~ ~ ~ ~ \n"
     ]
    }
   ],
   "source": [
    "for i in range(3):\n",
    "    # do something n times \n",
    "    print('one iteration')\n",
    "    print('~ '* 7)"
   ]
  },
  {
   "cell_type": "code",
   "execution_count": 2,
   "metadata": {},
   "outputs": [
    {
     "name": "stdout",
     "output_type": "stream",
     "text": [
      "0\n",
      "1\n",
      "2\n",
      "3\n"
     ]
    }
   ],
   "source": [
    "for i in range(4):\n",
    "    print(i)"
   ]
  },
  {
   "cell_type": "markdown",
   "metadata": {
    "tags": []
   },
   "source": [
    "### Syntax\n",
    "\n",
    "A for loop is indicated by the keyword **for**, followed by a variable (name of your choice) and another keyword **in**, followed by an **iterable object**. Behind that we have to insert a `:`.<br>\n",
    "<div class=\"alert alert-box alert-success\">\n",
    "    Everything <i>inside</i> a loop is <i>indent</i> by one tab. This <i>block of code</i> is repeated for every iteration over the iterable object.<br>\n",
    "    The first line of code without that extra indent is the first line that is not part of the loop.\n",
    "</div>\n",
    "<br>    "
   ]
  },
  {
   "cell_type": "code",
   "execution_count": 3,
   "metadata": {},
   "outputs": [
    {
     "name": "stdout",
     "output_type": "stream",
     "text": [
      "🦜\n",
      "🦜🦜\n",
      "🦜🦜🦜\n",
      "🦜🦜🦜🦜\n",
      "🦜🦜🦜🦜🦜\n",
      "🌵\n",
      "☕☕\n"
     ]
    }
   ],
   "source": [
    "for i in range(5):\n",
    "\n",
    "    print('🦜' * (i+1))\n",
    "    \n",
    "print('🌵')\n",
    "print(2*'☕')"
   ]
  },
  {
   "cell_type": "markdown",
   "metadata": {},
   "source": [
    "As you see we can use the variable `i` **inside** the loop. Its value changes with every iteration. Notice that counting starts from 0 in programming languages!"
   ]
  },
  {
   "cell_type": "code",
   "execution_count": 4,
   "metadata": {},
   "outputs": [
    {
     "name": "stdout",
     "output_type": "stream",
     "text": [
      "2\n",
      "3\n",
      "4\n",
      "5\n",
      "6\n",
      "7\n",
      "8\n",
      "9\n",
      "10\n"
     ]
    }
   ],
   "source": [
    "# We can specify a start value inside the range function:\n",
    "for i in range(2,11):\n",
    "    print(i)"
   ]
  },
  {
   "cell_type": "code",
   "execution_count": 5,
   "metadata": {},
   "outputs": [
    {
     "name": "stdout",
     "output_type": "stream",
     "text": [
      "12\n",
      "14\n",
      "16\n",
      "18\n",
      "20\n",
      "22\n"
     ]
    }
   ],
   "source": [
    "# Furthermore we can specify the steps between two values:\n",
    "for i in range(12, 24, 2):\n",
    "    print(i)"
   ]
  },
  {
   "cell_type": "markdown",
   "metadata": {},
   "source": [
    "## Nest For-Loop (MultiDimension For-Loop)\n",
    "\n",
    "Nest loop is the based on the actual \"Nest\", which iterate into different layer. It essential for processing multidimensional data for example, Image, Sound... etc.\n"
   ]
  },
  {
   "cell_type": "code",
   "execution_count": 6,
   "metadata": {},
   "outputs": [
    {
     "name": "stdout",
     "output_type": "stream",
     "text": [
      "**********\n",
      "**********\n",
      "**********\n",
      "**********\n",
      "**********\n",
      "**********\n",
      "**********\n",
      "**********\n",
      "**********\n",
      "**********\n"
     ]
    }
   ],
   "source": [
    "# Basic Nest For-Loop sturcture to print a square.\n",
    "\n",
    "# notice the indentation here\n",
    "# each indentation means different layers of loop\n",
    "for i in range(10):\n",
    "    for j in range(10):\n",
    "        print('*',end='')\n",
    "    print() "
   ]
  },
  {
   "cell_type": "markdown",
   "metadata": {},
   "source": [
    "The `i` in side the loop is also a variable\n",
    "which is possible to change, and create different effect.\n",
    "\n",
    "![Triangle](images/triangle.png)"
   ]
  },
  {
   "cell_type": "code",
   "execution_count": 7,
   "metadata": {},
   "outputs": [
    {
     "name": "stdout",
     "output_type": "stream",
     "text": [
      "@@@@@\n",
      "@@@@\n",
      "@@@\n",
      "@@\n",
      "@\n"
     ]
    }
   ],
   "source": [
    "# nest for-loop\n",
    "for i in range(5):\n",
    "    for j in range(i,5):\n",
    "        print('@',end='')\n",
    "    print()"
   ]
  },
  {
   "cell_type": "markdown",
   "metadata": {},
   "source": [
    "### Additional Information\n",
    "\n",
    "Nest loop is the basis of running multilayer data, it's the foundation of pixel based image."
   ]
  },
  {
   "cell_type": "code",
   "execution_count": 8,
   "metadata": {},
   "outputs": [
    {
     "name": "stdout",
     "output_type": "stream",
     "text": [
      "(0,0) (1,0) (2,0) (3,0) (4,0) (5,0) (6,0) (7,0) (8,0) (9,0) \n",
      "(0,1) (1,1) (2,1) (3,1) (4,1) (5,1) (6,1) (7,1) (8,1) (9,1) \n",
      "(0,2) (1,2) (2,2) (3,2) (4,2) (5,2) (6,2) (7,2) (8,2) (9,2) \n",
      "(0,3) (1,3) (2,3) (3,3) (4,3) (5,3) (6,3) (7,3) (8,3) (9,3) \n",
      "(0,4) (1,4) (2,4) (3,4) (4,4) (5,4) (6,4) (7,4) (8,4) (9,4) \n",
      "(0,5) (1,5) (2,5) (3,5) (4,5) (5,5) (6,5) (7,5) (8,5) (9,5) \n",
      "(0,6) (1,6) (2,6) (3,6) (4,6) (5,6) (6,6) (7,6) (8,6) (9,6) \n",
      "(0,7) (1,7) (2,7) (3,7) (4,7) (5,7) (6,7) (7,7) (8,7) (9,7) \n",
      "(0,8) (1,8) (2,8) (3,8) (4,8) (5,8) (6,8) (7,8) (8,8) (9,8) \n",
      "(0,9) (1,9) (2,9) (3,9) (4,9) (5,9) (6,9) (7,9) (8,9) (9,9) \n"
     ]
    }
   ],
   "source": [
    "for y in range(10):\n",
    "    for x in range(10):\n",
    "        print('(' + str(x) + ',' + str(y) +')',end=' ')\n",
    "    print()"
   ]
  },
  {
   "cell_type": "markdown",
   "metadata": {},
   "source": [
    "## Additional Information - Sorting\n",
    "\n",
    "Selection Sort and Bubble Sort as a example for traversing through list"
   ]
  },
  {
   "cell_type": "code",
   "execution_count": 44,
   "metadata": {},
   "outputs": [
    {
     "name": "stdout",
     "output_type": "stream",
     "text": [
      "Sorted array is: \n",
      "10\n",
      "11\n",
      "12\n",
      "18\n",
      "22\n",
      "25\n",
      "30\n",
      "64\n"
     ]
    }
   ],
   "source": [
    "# Python program for Selection Sort\n",
    "l = [10, 30, 18, 64, 25, 12, 22, 11]\n",
    "  \n",
    "# Traverse through all array elements\n",
    "for i in range(len(l)):\n",
    "      \n",
    "    # Find the minimum element in remaining \n",
    "    # unsorted array\n",
    "    min_idx = i\n",
    "    for j in range(i+1, len(l)):\n",
    "        if l[min_idx] > l[j]:\n",
    "            min_idx = j\n",
    "              \n",
    "    # Swap the found minimum element with \n",
    "    # the first element        \n",
    "    l[i], l[min_idx] = l[min_idx], l[i]\n",
    "\n",
    "print (\"Sorted array is: \")\n",
    "for i in range(len(l)):\n",
    "    print(l[i])"
   ]
  },
  {
   "cell_type": "code",
   "execution_count": 45,
   "metadata": {},
   "outputs": [
    {
     "name": "stdout",
     "output_type": "stream",
     "text": [
      "Sorted array is: \n",
      "10\n",
      "11\n",
      "12\n",
      "18\n",
      "22\n",
      "25\n",
      "30\n",
      "64\n"
     ]
    }
   ],
   "source": [
    "# Python program for Bubble Sort\n",
    "\n",
    "l = [10, 30, 18, 64, 25, 12, 22, 11]\n",
    "n = len(l)\n",
    "\n",
    "# Traverse through all array elements\n",
    "for i in range(n-1):\n",
    "# range(n) also work but outer loop will repeat one time more than needed.\n",
    "\n",
    "    # Last i elements are already in place\n",
    "    for j in range(0, n-i-1):\n",
    "\n",
    "        # traverse the array from 0 to n-i-1\n",
    "        # Swap if the element found is greater than the next element\n",
    "        if l[j] > l[j + 1] :\n",
    "            l[j], l[j + 1] = l[j + 1], l[j]\n",
    "\n",
    "print (\"Sorted array is: \")\n",
    "for i in range(len(l)):\n",
    "    print (l[i])"
   ]
  },
  {
   "cell_type": "markdown",
   "metadata": {},
   "source": [
    "### Step-By-Step Sorting Demo"
   ]
  },
  {
   "cell_type": "code",
   "execution_count": 53,
   "metadata": {},
   "outputs": [
    {
     "name": "stdout",
     "output_type": "stream",
     "text": [
      "Demonstration of Selection Sort\n",
      "\n",
      "original\n",
      "10 30 18 64 25 12 22 11 \n",
      "\n",
      "step 0\n",
      "\u001b[42m10 \u001b[41m30 \u001b[49m18 \u001b[49m64 \u001b[49m25 \u001b[49m12 \u001b[49m22 \u001b[49m11 \u001b[49m Smallest: 10\n",
      "\u001b[42m10 \u001b[49m30 \u001b[41m18 \u001b[49m64 \u001b[49m25 \u001b[49m12 \u001b[49m22 \u001b[49m11 \u001b[49m Smallest: 10\n",
      "\u001b[42m10 \u001b[49m30 \u001b[49m18 \u001b[41m64 \u001b[49m25 \u001b[49m12 \u001b[49m22 \u001b[49m11 \u001b[49m Smallest: 10\n",
      "\u001b[42m10 \u001b[49m30 \u001b[49m18 \u001b[49m64 \u001b[41m25 \u001b[49m12 \u001b[49m22 \u001b[49m11 \u001b[49m Smallest: 10\n",
      "\u001b[42m10 \u001b[49m30 \u001b[49m18 \u001b[49m64 \u001b[49m25 \u001b[41m12 \u001b[49m22 \u001b[49m11 \u001b[49m Smallest: 10\n",
      "\u001b[42m10 \u001b[49m30 \u001b[49m18 \u001b[49m64 \u001b[49m25 \u001b[49m12 \u001b[41m22 \u001b[49m11 \u001b[49m Smallest: 10\n",
      "\u001b[42m10 \u001b[49m30 \u001b[49m18 \u001b[49m64 \u001b[49m25 \u001b[49m12 \u001b[49m22 \u001b[41m11 \u001b[49m Smallest: 10\n",
      "step 1\n",
      "10 \u001b[42m30 \u001b[41m18 \u001b[49m64 \u001b[49m25 \u001b[49m12 \u001b[49m22 \u001b[49m11 \u001b[49m Smallest: 18\n",
      "10 \u001b[42m30 \u001b[49m18 \u001b[41m64 \u001b[49m25 \u001b[49m12 \u001b[49m22 \u001b[49m11 \u001b[49m Smallest: 18\n",
      "10 \u001b[42m30 \u001b[49m18 \u001b[49m64 \u001b[41m25 \u001b[49m12 \u001b[49m22 \u001b[49m11 \u001b[49m Smallest: 18\n",
      "10 \u001b[42m30 \u001b[49m18 \u001b[49m64 \u001b[49m25 \u001b[41m12 \u001b[49m22 \u001b[49m11 \u001b[49m Smallest: 12\n",
      "10 \u001b[42m30 \u001b[49m18 \u001b[49m64 \u001b[49m25 \u001b[49m12 \u001b[41m22 \u001b[49m11 \u001b[49m Smallest: 12\n",
      "10 \u001b[42m30 \u001b[49m18 \u001b[49m64 \u001b[49m25 \u001b[49m12 \u001b[49m22 \u001b[41m11 \u001b[49m Smallest: 11\n",
      "step 2\n",
      "10 11 \u001b[42m18 \u001b[41m64 \u001b[49m25 \u001b[49m12 \u001b[49m22 \u001b[49m30 \u001b[49m Smallest: 18\n",
      "10 11 \u001b[42m18 \u001b[49m64 \u001b[41m25 \u001b[49m12 \u001b[49m22 \u001b[49m30 \u001b[49m Smallest: 18\n",
      "10 11 \u001b[42m18 \u001b[49m64 \u001b[49m25 \u001b[41m12 \u001b[49m22 \u001b[49m30 \u001b[49m Smallest: 12\n",
      "10 11 \u001b[42m18 \u001b[49m64 \u001b[49m25 \u001b[49m12 \u001b[41m22 \u001b[49m30 \u001b[49m Smallest: 12\n",
      "10 11 \u001b[42m18 \u001b[49m64 \u001b[49m25 \u001b[49m12 \u001b[49m22 \u001b[41m30 \u001b[49m Smallest: 12\n",
      "step 3\n",
      "10 11 12 \u001b[42m64 \u001b[41m25 \u001b[49m18 \u001b[49m22 \u001b[49m30 \u001b[49m Smallest: 25\n",
      "10 11 12 \u001b[42m64 \u001b[49m25 \u001b[41m18 \u001b[49m22 \u001b[49m30 \u001b[49m Smallest: 18\n",
      "10 11 12 \u001b[42m64 \u001b[49m25 \u001b[49m18 \u001b[41m22 \u001b[49m30 \u001b[49m Smallest: 18\n",
      "10 11 12 \u001b[42m64 \u001b[49m25 \u001b[49m18 \u001b[49m22 \u001b[41m30 \u001b[49m Smallest: 18\n",
      "step 4\n",
      "10 11 12 18 \u001b[42m25 \u001b[41m64 \u001b[49m22 \u001b[49m30 \u001b[49m Smallest: 25\n",
      "10 11 12 18 \u001b[42m25 \u001b[49m64 \u001b[41m22 \u001b[49m30 \u001b[49m Smallest: 22\n",
      "10 11 12 18 \u001b[42m25 \u001b[49m64 \u001b[49m22 \u001b[41m30 \u001b[49m Smallest: 22\n",
      "step 5\n",
      "10 11 12 18 22 \u001b[42m64 \u001b[41m25 \u001b[49m30 \u001b[49m Smallest: 25\n",
      "10 11 12 18 22 \u001b[42m64 \u001b[49m25 \u001b[41m30 \u001b[49m Smallest: 25\n",
      "step 6\n",
      "10 11 12 18 22 25 \u001b[42m64 \u001b[41m30 \u001b[49m Smallest: 30\n",
      "step 7\n",
      "\n",
      "Sorted array is: \n",
      "10\n",
      "11\n",
      "12\n",
      "18\n",
      "22\n",
      "25\n",
      "30\n",
      "64\n"
     ]
    }
   ],
   "source": [
    "# Python program for Selection Sort\n",
    "l = [10, 30, 18, 64, 25, 12, 22, 11]\n",
    "print('Demonstration of Selection Sort\\n')\n",
    "print('original')\n",
    "for i in l:\n",
    "    print(i,end=' ')\n",
    "print('\\n')\n",
    "for i in range(len(l)):      \n",
    "    print('step '+str(i))\n",
    "    min_idx = i\n",
    "    \n",
    "    for j in range(i+1, len(l)):\n",
    "        swaping = False\n",
    "      \n",
    "        if l[min_idx] > l[j]:\n",
    "            min_idx = j\n",
    "            swaping = True \n",
    "            \n",
    "        for k in range(i):\n",
    "            print(l[k],end=' ')\n",
    "            \n",
    "        print('\\033[42m'+ str(l[i]),end=' ')\n",
    "        for k in range(i+1,j):\n",
    "            print('\\033[49m'+ str(l[k]),end=' ')\n",
    "\n",
    "        print('\\033[41m'+ str(l[j]),end=' ')\n",
    "\n",
    "        for k in range(j+1,len(l)):\n",
    "            print('\\033[49m'+ str(l[k]),end=' ')\n",
    "            \n",
    "        print('\\033[49m Smallest: '+str(l[min_idx]),end='')\n",
    "        print()   \n",
    "        \n",
    "    l[i], l[min_idx] = l[min_idx], l[i]\n",
    "    \n",
    "print (\"\\nSorted array is: \")\n",
    "for i in range(len(l)):\n",
    "    print(l[i])"
   ]
  },
  {
   "cell_type": "code",
   "execution_count": 54,
   "metadata": {},
   "outputs": [
    {
     "name": "stdout",
     "output_type": "stream",
     "text": [
      "Demonstration of Bubble Sort\n",
      "\n",
      "original\n",
      "10 30 18 64 25 12 22 11 \n",
      "\n",
      "step 0\n",
      "\u001b[42m10 \u001b[41m30 \u001b[49m18 \u001b[49m64 \u001b[49m25 \u001b[49m12 \u001b[49m22 \u001b[49m11 \n",
      "10 \u001b[42m30 \u001b[41m18 \u001b[49m64 \u001b[49m25 \u001b[49m12 \u001b[49m22 \u001b[49m11 \u001b[49mswapp\n",
      "10 18 \u001b[42m30 \u001b[41m64 \u001b[49m25 \u001b[49m12 \u001b[49m22 \u001b[49m11 \n",
      "10 18 30 \u001b[42m64 \u001b[41m25 \u001b[49m12 \u001b[49m22 \u001b[49m11 \u001b[49mswapp\n",
      "10 18 30 25 \u001b[42m64 \u001b[41m12 \u001b[49m22 \u001b[49m11 \u001b[49mswapp\n",
      "10 18 30 25 12 \u001b[42m64 \u001b[41m22 \u001b[49m11 \u001b[49mswapp\n",
      "10 18 30 25 12 22 \u001b[42m64 \u001b[41m11 \u001b[49mswapp\n",
      "step 1\n",
      "\u001b[42m10 \u001b[41m18 \u001b[49m30 \u001b[49m25 \u001b[49m12 \u001b[49m22 \u001b[49m11 \u001b[49m64 \n",
      "10 \u001b[42m18 \u001b[41m30 \u001b[49m25 \u001b[49m12 \u001b[49m22 \u001b[49m11 \u001b[49m64 \n",
      "10 18 \u001b[42m30 \u001b[41m25 \u001b[49m12 \u001b[49m22 \u001b[49m11 \u001b[49m64 \u001b[49mswapp\n",
      "10 18 25 \u001b[42m30 \u001b[41m12 \u001b[49m22 \u001b[49m11 \u001b[49m64 \u001b[49mswapp\n",
      "10 18 25 12 \u001b[42m30 \u001b[41m22 \u001b[49m11 \u001b[49m64 \u001b[49mswapp\n",
      "10 18 25 12 22 \u001b[42m30 \u001b[41m11 \u001b[49m64 \u001b[49mswapp\n",
      "step 2\n",
      "\u001b[42m10 \u001b[41m18 \u001b[49m25 \u001b[49m12 \u001b[49m22 \u001b[49m11 \u001b[49m30 \u001b[49m64 \n",
      "10 \u001b[42m18 \u001b[41m25 \u001b[49m12 \u001b[49m22 \u001b[49m11 \u001b[49m30 \u001b[49m64 \n",
      "10 18 \u001b[42m25 \u001b[41m12 \u001b[49m22 \u001b[49m11 \u001b[49m30 \u001b[49m64 \u001b[49mswapp\n",
      "10 18 12 \u001b[42m25 \u001b[41m22 \u001b[49m11 \u001b[49m30 \u001b[49m64 \u001b[49mswapp\n",
      "10 18 12 22 \u001b[42m25 \u001b[41m11 \u001b[49m30 \u001b[49m64 \u001b[49mswapp\n",
      "step 3\n",
      "\u001b[42m10 \u001b[41m18 \u001b[49m12 \u001b[49m22 \u001b[49m11 \u001b[49m25 \u001b[49m30 \u001b[49m64 \n",
      "10 \u001b[42m18 \u001b[41m12 \u001b[49m22 \u001b[49m11 \u001b[49m25 \u001b[49m30 \u001b[49m64 \u001b[49mswapp\n",
      "10 12 \u001b[42m18 \u001b[41m22 \u001b[49m11 \u001b[49m25 \u001b[49m30 \u001b[49m64 \n",
      "10 12 18 \u001b[42m22 \u001b[41m11 \u001b[49m25 \u001b[49m30 \u001b[49m64 \u001b[49mswapp\n",
      "step 4\n",
      "\u001b[42m10 \u001b[41m12 \u001b[49m18 \u001b[49m11 \u001b[49m22 \u001b[49m25 \u001b[49m30 \u001b[49m64 \n",
      "10 \u001b[42m12 \u001b[41m18 \u001b[49m11 \u001b[49m22 \u001b[49m25 \u001b[49m30 \u001b[49m64 \n",
      "10 12 \u001b[42m18 \u001b[41m11 \u001b[49m22 \u001b[49m25 \u001b[49m30 \u001b[49m64 \u001b[49mswapp\n",
      "step 5\n",
      "\u001b[42m10 \u001b[41m12 \u001b[49m11 \u001b[49m18 \u001b[49m22 \u001b[49m25 \u001b[49m30 \u001b[49m64 \n",
      "10 \u001b[42m12 \u001b[41m11 \u001b[49m18 \u001b[49m22 \u001b[49m25 \u001b[49m30 \u001b[49m64 \u001b[49mswapp\n",
      "step 6\n",
      "\u001b[42m10 \u001b[41m11 \u001b[49m12 \u001b[49m18 \u001b[49m22 \u001b[49m25 \u001b[49m30 \u001b[49m64 \n",
      "\n",
      "Sorted array is: \n",
      "10\n",
      "11\n",
      "12\n",
      "18\n",
      "22\n",
      "25\n",
      "30\n",
      "64\n"
     ]
    }
   ],
   "source": [
    "# Python program for Bubble Sort\n",
    "\n",
    "l = [10, 30, 18, 64, 25, 12, 22, 11]\n",
    "n = len(l)\n",
    "print('Demonstration of Bubble Sort\\n')\n",
    "print('original')\n",
    "for i in l:\n",
    "    print(i,end=' ')\n",
    "print('\\n')\n",
    "# Traverse through all array elements\n",
    "for i in range(n-1):\n",
    "# range(n) also work but outer loop will repeat one time more than needed.\n",
    "    print('step '+str(i))\n",
    "    min_idx = i\n",
    "\n",
    "    # Last i elements are already in place\n",
    "    for j in range(0, n-i-1):\n",
    "        \n",
    "        for k in range(j):\n",
    "            print(l[k],end=' ')\n",
    "            \n",
    "        print('\\033[42m' + str(l[j]),end=' ')\n",
    "\n",
    "        print('\\033[41m' + str(l[j+1]),end=' ')\n",
    "\n",
    "        for k in range(j+2,len(l)):\n",
    "            print('\\033[49m' + str(l[k]),end=' ')\n",
    "        \n",
    "        if l[j] > l[j + 1] :\n",
    "            l[j], l[j + 1] = l[j + 1], l[j]\n",
    "            print('\\033[49mswapp',end='')\n",
    "        \n",
    "        print('')\n",
    "\n",
    "\n",
    "print (\"\\nSorted array is: \")\n",
    "for i in range(len(l)):\n",
    "    print (l[i])"
   ]
  },
  {
   "cell_type": "code",
   "execution_count": null,
   "metadata": {},
   "outputs": [],
   "source": []
  },
  {
   "cell_type": "code",
   "execution_count": null,
   "metadata": {},
   "outputs": [],
   "source": []
  }
 ],
 "metadata": {
  "kernelspec": {
   "display_name": "Python 3",
   "language": "python",
   "name": "python3"
  },
  "language_info": {
   "codemirror_mode": {
    "name": "ipython",
    "version": 3
   },
   "file_extension": ".py",
   "mimetype": "text/x-python",
   "name": "python",
   "nbconvert_exporter": "python",
   "pygments_lexer": "ipython3",
   "version": "3.7.9"
  }
 },
 "nbformat": 4,
 "nbformat_minor": 4
}
